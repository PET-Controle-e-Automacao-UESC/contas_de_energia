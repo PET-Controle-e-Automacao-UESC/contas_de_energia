{
 "cells": [
  {
   "cell_type": "markdown",
   "metadata": {},
   "source": [
    "# PETCA - Projeto de Análise de Contas de Energia com Aprendizado de Máquina e Redes Neurais"
   ]
  },
  {
   "cell_type": "markdown",
   "metadata": {},
   "source": [
    "## Índice\n",
    "- [Modelos Utilizados](#modelos-utilizados)\n",
    "- [Importando Pacotes e Bibliotecas](#importando-os-pacotes-e-bibliotecas)\n",
    "- [Importando os Datasets](#importando-os-datasets)\n",
    "- [Análise Inicial dos Datasets](#análise-inicial-dos-datasets)\n",
    "- [Análise Exploratória dos Dados](#aed)\n",
    "- [Criando os Modelos](#criando-os-modelos)\n",
    "- [Treinando os Modelos](#treinando-os-modelos)\n",
    "- [Resultados os Modelos](#resultados-dos-modelos)\n",
    "    - [Realização dos Testes](#testes)\n",
    "    - [Qualidade dos Modelos](#qualidade-dos-testes-e-resultados)\n",
    "- [Discussão](#discussão)"
   ]
  },
  {
   "cell_type": "markdown",
   "metadata": {},
   "source": [
    "## Modelos Utilizados\n",
    "- Árvore de Decisão (Decision Tree)\n",
    "- Ensemble\n",
    "- Floresta Randômica (Random Forest)\n",
    "- Redes Neurais Convolucionais\n",
    "- Regressão Linear\n",
    "- Regressão Polinomial\n",
    "- Support Vector Machine (SVM)"
   ]
  },
  {
   "cell_type": "markdown",
   "metadata": {},
   "source": [
    "## Importando os pacotes e bibliotecas"
   ]
  },
  {
   "cell_type": "code",
   "execution_count": 1,
   "metadata": {},
   "outputs": [
    {
     "ename": "ModuleNotFoundError",
     "evalue": "No module named 'seaborn'",
     "output_type": "error",
     "traceback": [
      "\u001b[0;31m---------------------------------------------------------------------------\u001b[0m",
      "\u001b[0;31mModuleNotFoundError\u001b[0m                       Traceback (most recent call last)",
      "Cell \u001b[0;32mIn[1], line 24\u001b[0m\n\u001b[1;32m     21\u001b[0m \u001b[38;5;66;03m# bibliotecas de suporte -----\u001b[39;00m\n\u001b[1;32m     22\u001b[0m \u001b[38;5;66;03m## Impressao de Graficos\u001b[39;00m\n\u001b[1;32m     23\u001b[0m \u001b[38;5;28;01mfrom\u001b[39;00m \u001b[38;5;21;01mmatplotlib\u001b[39;00m \u001b[38;5;28;01mimport\u001b[39;00m pyplot \u001b[38;5;28;01mas\u001b[39;00m plt\n\u001b[0;32m---> 24\u001b[0m \u001b[38;5;28;01mimport\u001b[39;00m \u001b[38;5;21;01mseaborn\u001b[39;00m \u001b[38;5;28;01mas\u001b[39;00m \u001b[38;5;21;01msns\u001b[39;00m\n\u001b[1;32m     26\u001b[0m \u001b[38;5;66;03m## Bibliotecas Base\u001b[39;00m\n\u001b[1;32m     27\u001b[0m \u001b[38;5;28;01mimport\u001b[39;00m \u001b[38;5;21;01mpandas\u001b[39;00m \u001b[38;5;28;01mas\u001b[39;00m \u001b[38;5;21;01mpd\u001b[39;00m\n",
      "\u001b[0;31mModuleNotFoundError\u001b[0m: No module named 'seaborn'"
     ]
    }
   ],
   "source": [
    "# biblioteca para realizar o corte teste | treino\n",
    "from sklearn.model_selection import train_test_split\n",
    "\n",
    "# bibliotecas de classificacao\n",
    "## Floresta Randomica;\n",
    "## Arvore de Decisao; e\n",
    "## Support Vector Machine (SVM).\n",
    "from sklearn.ensemble  import RandomForestClassifier\n",
    "from sklearn.tree import DecisionTreeClassifier\n",
    "from sklearn.svm import SVC\n",
    "\n",
    "# biblioteca de modelos polinomiais\n",
    "from sklearn.preprocessing import PolynomialFeatures\n",
    "\n",
    "# biblioteca de modelos lineares\n",
    "## Regressao Linear; e\n",
    "## Support Vector Machine (SVM).\n",
    "from sklearn.linear_model import LinearRegression\n",
    "from sklearn.svm import SVR\n",
    "\n",
    "# bibliotecas de suporte -----\n",
    "## Impressao de Graficos\n",
    "from matplotlib import pyplot as plt\n",
    "import seaborn as sns\n",
    "\n",
    "## Bibliotecas Base\n",
    "import pandas as pd\n",
    "import numpy as np\n",
    "# ----------------------------\n",
    "\n",
    "# bibliotecas e pacotes do TensorFlow\n",
    "## Redes Neurais Convolucionais\n",
    "import tensorflow as tf\n",
    "from tensorflow.keras import layers, models"
   ]
  },
  {
   "cell_type": "markdown",
   "metadata": {},
   "source": [
    "## Importando os datasets"
   ]
  },
  {
   "cell_type": "code",
   "execution_count": null,
   "metadata": {},
   "outputs": [],
   "source": [
    "df_residencial_raw = pd.read_csv(\"./datasets_directory/raw/CONSUMO MENSAL DE ENERGIA ELÉTRICA POR CLASSE - RESIDENCIAL.csv\", sep = \",\")"
   ]
  },
  {
   "cell_type": "markdown",
   "metadata": {},
   "source": [
    "## Análise Inicial dos Datasets"
   ]
  },
  {
   "cell_type": "code",
   "execution_count": null,
   "metadata": {},
   "outputs": [],
   "source": []
  },
  {
   "cell_type": "markdown",
   "metadata": {},
   "source": [
    "## AED\n",
    "### Análise Exploratória dos Dados"
   ]
  },
  {
   "cell_type": "code",
   "execution_count": null,
   "metadata": {},
   "outputs": [],
   "source": []
  },
  {
   "cell_type": "markdown",
   "metadata": {},
   "source": [
    "## Criando os Modelos"
   ]
  },
  {
   "cell_type": "code",
   "execution_count": null,
   "metadata": {},
   "outputs": [],
   "source": []
  },
  {
   "cell_type": "markdown",
   "metadata": {},
   "source": [
    "## Treinando os Modelos"
   ]
  },
  {
   "cell_type": "code",
   "execution_count": null,
   "metadata": {},
   "outputs": [],
   "source": []
  },
  {
   "cell_type": "markdown",
   "metadata": {},
   "source": [
    "## Resultados dos Modelos"
   ]
  },
  {
   "cell_type": "markdown",
   "metadata": {},
   "source": [
    "### Testes"
   ]
  },
  {
   "cell_type": "code",
   "execution_count": null,
   "metadata": {},
   "outputs": [],
   "source": []
  },
  {
   "cell_type": "markdown",
   "metadata": {},
   "source": [
    "### Qualidade dos Testes e Resultados"
   ]
  },
  {
   "cell_type": "code",
   "execution_count": null,
   "metadata": {},
   "outputs": [],
   "source": []
  },
  {
   "cell_type": "markdown",
   "metadata": {},
   "source": [
    "## Discussão"
   ]
  },
  {
   "cell_type": "markdown",
   "metadata": {
    "vscode": {
     "languageId": "plaintext"
    }
   },
   "source": [
    "A discussão vai aqui"
   ]
  }
 ],
 "metadata": {
  "kernelspec": {
   "display_name": ".petca-venv",
   "language": "python",
   "name": "python3"
  },
  "language_info": {
   "codemirror_mode": {
    "name": "ipython",
    "version": 3
   },
   "file_extension": ".py",
   "mimetype": "text/x-python",
   "name": "python",
   "nbconvert_exporter": "python",
   "pygments_lexer": "ipython3",
   "version": "3.12.3"
  }
 },
 "nbformat": 4,
 "nbformat_minor": 2
}
