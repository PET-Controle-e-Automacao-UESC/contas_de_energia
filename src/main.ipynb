{
 "cells": [
  {
   "cell_type": "markdown",
   "metadata": {},
   "source": [
    "# PETCA - Projeto de Análise de Contas de Energia com Aprendizado de Máquina e Redes Neurais"
   ]
  },
  {
   "cell_type": "markdown",
   "metadata": {},
   "source": [
    "## Índice\n",
    "- [Modelos Utilizados](#modelos-utilizados)\n",
    "- [Importando Pacotes e Bibliotecas](#importando-os-pacotes-e-bibliotecas)\n",
    "- [Importando os Datasets](#importando-os-datasets)\n",
    "- [Análise Inicial dos Datasets](#análise-inicial-dos-datasets)\n",
    "- [Análise Exploratória dos Dados](#aed)\n",
    "- [Criando os Modelos](#criando-os-modelos)\n",
    "- [Treinando os Modelos](#treinando-os-modelos)\n",
    "- [Resultados os Modelos](#resultados-dos-modelos)\n",
    "    - [Realização dos Testes](#testes)\n",
    "    - [Qualidade dos Modelos](#qualidade-dos-testes-e-resultados)\n",
    "- [Discussão](#discussão)"
   ]
  },
  {
   "cell_type": "markdown",
   "metadata": {},
   "source": [
    "## Modelos Utilizados\n",
    "- Árvore de Decisão (Decision Tree)\n",
    "- Ensemble\n",
    "- Floresta Randômica (Random Forest)\n",
    "- Redes Neurais Convolucionais\n",
    "- Regressão Linear\n",
    "- Regressão Polinomial\n",
    "- Support Vector Machine (SVM)"
   ]
  },
  {
   "cell_type": "markdown",
   "metadata": {},
   "source": [
    "## Importando os pacotes e bibliotecas"
   ]
  },
  {
   "cell_type": "code",
   "execution_count": null,
   "metadata": {},
   "outputs": [],
   "source": [
    "# biblioteca para realizar o corte teste | treino\n",
    "from sklearn.model_selection import train_test_split\n",
    "\n",
    "# bibliotecas de classificacao\n",
    "## Floresta Randomica;\n",
    "## Arvore de Decisao; e\n",
    "## Support Vector Machine (SVM).\n",
    "from sklearn.ensemble  import RandomForestClassifier\n",
    "from sklearn.tree import DecisionTreeClassifier\n",
    "from sklearn.svm import SVC\n",
    "\n",
    "# biblioteca de modelos polinomiais\n",
    "from sklearn.preprocessing import PolynomialFeatures\n",
    "\n",
    "# biblioteca de modelos lineares\n",
    "## Regressao Linear; e\n",
    "## Support Vector Machine (SVM).\n",
    "from sklearn.linear_model import LinearRegression\n",
    "from sklearn.svm import SVR\n",
    "\n",
    "# bibliotecas de suporte -----\n",
    "## Impressao de Graficos\n",
    "from matplotlib import pyplot as plt\n",
    "import seaborn as sns\n",
    "\n",
    "## Bibliotecas Base\n",
    "import pandas as pd\n",
    "import numpy as np\n",
    "# ----------------------------\n",
    "\n",
    "# bibliotecas e pacotes do TensorFlow\n",
    "## Redes Neurais Convolucionais\n",
    "import tensorflow as tf\n",
    "from keras import layers, models"
   ]
  },
  {
   "cell_type": "markdown",
   "metadata": {},
   "source": [
    "## Importando os datasets"
   ]
  },
  {
   "cell_type": "code",
   "execution_count": null,
   "metadata": {},
   "outputs": [],
   "source": [
    "df_residencial_raw = pd.read_csv(\"./databases/raw/CONSUMO MENSAL DE ENERGIA ELÉTRICA POR CLASSE - CONSUMO COMERCIAL POR UF.csv\", sep = \",\", index_col = 0)"
   ]
  },
  {
   "cell_type": "markdown",
   "metadata": {},
   "source": [
    "## Análise Inicial dos Datasets"
   ]
  },
  {
   "cell_type": "markdown",
   "metadata": {},
   "source": [
    "### Consumo Residencial por UF"
   ]
  },
  {
   "cell_type": "code",
   "execution_count": null,
   "metadata": {},
   "outputs": [],
   "source": [
    "df_residencial_raw.sample(10)"
   ]
  },
  {
   "cell_type": "markdown",
   "metadata": {},
   "source": [
    "#### Quantidade de valores nulos"
   ]
  },
  {
   "cell_type": "code",
   "execution_count": null,
   "metadata": {},
   "outputs": [],
   "source": [
    "df_residencial_transposto = df_residencial_raw.transpose()\n",
    "df_residencial_transposto.sample(10)"
   ]
  },
  {
   "cell_type": "code",
   "execution_count": null,
   "metadata": {},
   "outputs": [],
   "source": [
    "columns_to_be_droped = [\n",
    "    \"Consumo de energia elétrica na rede (MWh)\",\n",
    "    \"Sistema SIMPLES\",\n",
    "    \"Nota: atualização defasada para não antecipar informações de distribuidoras que devem obedecer às intruções da CVM sobre publicação de resultados.\",\n",
    "    \"TOTAL POR UF\"\n",
    "]"
   ]
  },
  {
   "cell_type": "code",
   "execution_count": null,
   "metadata": {},
   "outputs": [],
   "source": [
    "df_residencial_transposto.drop(columns = columns_to_be_droped, inplace = True, axis = \"columns\")\n",
    "df_residencial_transposto.sample(10)"
   ]
  },
  {
   "cell_type": "markdown",
   "metadata": {},
   "source": [
    "## Renomeando colunas que não possuiam nomes"
   ]
  },
  {
   "cell_type": "code",
   "execution_count": null,
   "metadata": {},
   "outputs": [],
   "source": [
    "columns_to_rename = pd.Series(df_residencial_transposto.columns)\n",
    "columns_to_rename = columns_to_rename.fillna(\"new_name\" + (columns_to_rename.groupby(columns_to_rename.isnull()).cumcount() + 1).astype(str))\n",
    "df_residencial_transposto.columns = columns_to_rename\n",
    "df_residencial_transposto.sample(10)"
   ]
  },
  {
   "cell_type": "markdown",
   "metadata": {},
   "source": [
    "### Excluindo coluna insignificante"
   ]
  },
  {
   "cell_type": "code",
   "execution_count": null,
   "metadata": {},
   "outputs": [],
   "source": [
    "df_residencial_transposto.drop(columns = [\"new_name1\"], inplace = True, axis = \"columns\")\n",
    "df_residencial_transposto.sample(10)"
   ]
  },
  {
   "cell_type": "markdown",
   "metadata": {},
   "source": [
    "### Renomeando colunas \"ano\" e \"mês\""
   ]
  },
  {
   "cell_type": "code",
   "execution_count": null,
   "metadata": {},
   "outputs": [],
   "source": [
    "columns_to_rename = {\n",
    "    \"new_name2\" : \"ano\",\n",
    "    \"new_name3\" : \"mes\"\n",
    "}\n",
    "\n",
    "df_residencial_transposto.rename(mapper = columns_to_rename, axis = \"columns\", inplace = True)\n",
    "df_residencial_transposto.head(5)"
   ]
  },
  {
   "cell_type": "markdown",
   "metadata": {},
   "source": [
    "### Preenchendo a coluna \"ano\" com valores corretos do ano"
   ]
  },
  {
   "cell_type": "code",
   "execution_count": null,
   "metadata": {},
   "outputs": [],
   "source": [
    "df_residencial_transposto[\"ano\"] = df_residencial_transposto[\"ano\"].ffill()"
   ]
  },
  {
   "cell_type": "markdown",
   "metadata": {},
   "source": [
    "## Transformando colunas importantes em Índice"
   ]
  },
  {
   "cell_type": "code",
   "execution_count": null,
   "metadata": {},
   "outputs": [],
   "source": [
    "df_residencial_transposto[\"ano\"].unique()"
   ]
  },
  {
   "cell_type": "code",
   "execution_count": null,
   "metadata": {},
   "outputs": [],
   "source": [
    "df_residencial_transposto[\"mes\"].unique()"
   ]
  },
  {
   "cell_type": "code",
   "execution_count": null,
   "metadata": {},
   "outputs": [],
   "source": [
    "df_residencial_transposto.columns"
   ]
  },
  {
   "cell_type": "code",
   "execution_count": null,
   "metadata": {},
   "outputs": [],
   "source": [
    "df_residencial_transposto.reset_index(inplace = True)\n",
    "df_residencial_transposto[\"ano\"] = df_residencial_transposto[\"ano\"].astype(\"str\")\n",
    "df_residencial_transposto[\"mes\"] = df_residencial_transposto[\"mes\"].astype(\"str\")\n",
    "df_residencial_transposto.set_index([\"ano\", \"mes\"], inplace = True)\n",
    "df_residencial_transposto.drop(columns = [\"index\"], axis = \"columns\", inplace = True)"
   ]
  },
  {
   "cell_type": "code",
   "execution_count": null,
   "metadata": {},
   "outputs": [],
   "source": [
    "df_residencial_transposto.sample(10)"
   ]
  },
  {
   "cell_type": "markdown",
   "metadata": {},
   "source": [
    "### Deletando a linha NaN do índice"
   ]
  },
  {
   "cell_type": "code",
   "execution_count": null,
   "metadata": {},
   "outputs": [],
   "source": [
    "df_residencial_processed = df_residencial_transposto.iloc[ : df_residencial_transposto.shape[0] - 12, :]\n",
    "df_residencial_processed.tail(20)"
   ]
  },
  {
   "cell_type": "markdown",
   "metadata": {},
   "source": [
    "### Verificandos os tipos das colunas do dataset"
   ]
  },
  {
   "cell_type": "code",
   "execution_count": null,
   "metadata": {},
   "outputs": [],
   "source": [
    "df_residencial_processed.dtypes"
   ]
  },
  {
   "cell_type": "markdown",
   "metadata": {},
   "source": [
    "### Trocando os tipos dos dados para melhor compressão e compreensão do dataset"
   ]
  },
  {
   "cell_type": "markdown",
   "metadata": {},
   "source": [
    "Os dados serão trocados para o tipo \"unsigned integer\" de 32 bits"
   ]
  },
  {
   "cell_type": "code",
   "execution_count": null,
   "metadata": {},
   "outputs": [],
   "source": [
    "for coluna in df_residencial_processed.columns:\n",
    "    df_residencial_processed[coluna] = [valor.replace(\".\", \"\") for valor in df_residencial_processed[coluna]]"
   ]
  },
  {
   "cell_type": "code",
   "execution_count": null,
   "metadata": {},
   "outputs": [],
   "source": [
    "df_residencial_processed[\"Rondônia\"] = df_residencial_processed[\"Rondônia\"].astype(\"uint32\")\n",
    "df_residencial_processed[\"Acre\"] = df_residencial_processed[\"Acre\"].astype(\"uint32\")\n",
    "df_residencial_processed[\"Amazonas\"] = df_residencial_processed[\"Amazonas\"].astype(\"uint32\")\n",
    "df_residencial_processed[\"Roraima\"] = df_residencial_processed[\"Roraima\"].astype(\"uint32\")\n",
    "df_residencial_processed[\"Pará\"] = df_residencial_processed[\"Pará\"].astype(\"uint32\")\n",
    "df_residencial_processed[\"Amapá\"] = df_residencial_processed[\"Amapá\"].astype(\"uint32\")\n",
    "df_residencial_processed[\"Tocantins\"] = df_residencial_processed[\"Tocantins\"].astype(\"uint32\")\n",
    "df_residencial_processed[\"Maranhão\"] = df_residencial_processed[\"Maranhão\"].astype(\"uint32\")\n",
    "df_residencial_processed[\"Piauí\"] = df_residencial_processed[\"Piauí\"].astype(\"uint32\")\n",
    "df_residencial_processed[\"Ceará\"] = df_residencial_processed[\"Ceará\"].astype(\"uint32\")\n",
    "df_residencial_processed[\"Rio Grande do Norte\"] = df_residencial_processed[\"Rio Grande do Norte\"].astype(\"uint32\")\n",
    "df_residencial_processed[\"Paraíba\"] = df_residencial_processed[\"Paraíba\"].astype(\"uint32\")\n",
    "df_residencial_processed[\"Pernambuco\"] = df_residencial_processed[\"Pernambuco\"].astype(\"uint32\")\n",
    "df_residencial_processed[\"Alagoas\"] = df_residencial_processed[\"Alagoas\"].astype(\"uint32\")\n",
    "df_residencial_processed[\"Sergipe\"] = df_residencial_processed[\"Sergipe\"].astype(\"uint32\")\n",
    "df_residencial_processed[\"Bahia\"] = df_residencial_processed[\"Bahia\"].astype(\"uint32\")\n",
    "df_residencial_processed[\"Minas Gerais\"] = df_residencial_processed[\"Minas Gerais\"].astype(\"uint32\")\n",
    "df_residencial_processed[\"Espírito Santo\"] = df_residencial_processed[\"Espírito Santo\"].astype(\"uint32\")\n",
    "df_residencial_processed[\"Rio de Janeiro\"] = df_residencial_processed[\"Rio de Janeiro\"].astype(\"uint32\")\n",
    "df_residencial_processed[\"São Paulo\"] = df_residencial_processed[\"São Paulo\"].astype(\"uint32\")\n",
    "df_residencial_processed[\"Paraná\"] = df_residencial_processed[\"Paraná\"].astype(\"uint32\")\n",
    "df_residencial_processed[\"Santa Catarina\"] = df_residencial_processed[\"Santa Catarina\"].astype(\"uint32\")\n",
    "df_residencial_processed[\"Rio Grande do Sul\"] = df_residencial_processed[\"Rio Grande do Sul\"].astype(\"uint32\")\n",
    "df_residencial_processed[\"Mato Grosso do Sul\"] = df_residencial_processed[\"Mato Grosso do Sul\"].astype(\"uint32\")\n",
    "df_residencial_processed[\"Mato Grosso\"] = df_residencial_processed[\"Mato Grosso\"].astype(\"uint32\")\n",
    "df_residencial_processed[\"Goiás\"] = df_residencial_processed[\"Goiás\"].astype(\"uint32\")\n",
    "df_residencial_processed[\"Distrito Federal\"] = df_residencial_processed[\"Distrito Federal\"].astype(\"uint32\")"
   ]
  },
  {
   "cell_type": "markdown",
   "metadata": {},
   "source": [
    "### Conferindo a troca de tipos"
   ]
  },
  {
   "cell_type": "code",
   "execution_count": null,
   "metadata": {},
   "outputs": [],
   "source": [
    "df_residencial_processed.dtypes"
   ]
  },
  {
   "cell_type": "markdown",
   "metadata": {},
   "source": [
    "## Salvando os datasets tratados\n",
    "### Eles serão salvos em .pkl (pickle)\n",
    "Essa extensão criada pelos desenvolvedores da biblioteca pandas salva os metadados dos datasets enquanto comprime seu tamanho de arquivo"
   ]
  },
  {
   "cell_type": "code",
   "execution_count": null,
   "metadata": {},
   "outputs": [],
   "source": [
    "df_residencial_processed.to_pickle(path = \"./databases/processed/classes-consumoComercialPorUF.pkl\")"
   ]
  },
  {
   "cell_type": "markdown",
   "metadata": {},
   "source": [
    "## AED\n",
    "### Análise Exploratória dos Dados"
   ]
  },
  {
   "cell_type": "markdown",
   "metadata": {},
   "source": [
    "### Lendo os datasets tratados em formato pickle"
   ]
  },
  {
   "cell_type": "code",
   "execution_count": null,
   "metadata": {},
   "outputs": [],
   "source": [
    "df_residencial_processed = pd.read_pickle(\"./databases/processed/classes-consumoComercialPorUF.pkl\")"
   ]
  },
  {
   "cell_type": "markdown",
   "metadata": {},
   "source": [
    "### Consumo Residencial por UF"
   ]
  },
  {
   "cell_type": "markdown",
   "metadata": {},
   "source": [
    "#### Informações básicas aglutinadas"
   ]
  },
  {
   "cell_type": "code",
   "execution_count": null,
   "metadata": {},
   "outputs": [],
   "source": [
    "df_residencial_processed.info()"
   ]
  },
  {
   "cell_type": "markdown",
   "metadata": {},
   "source": [
    "#### Valores demonstrados de forma numéricas"
   ]
  },
  {
   "cell_type": "code",
   "execution_count": null,
   "metadata": {},
   "outputs": [],
   "source": [
    "for coluna in df_residencial_processed.columns:\n",
    "    print(\"Estado \" + coluna, end = \"\\n\")\n",
    "    print(f\"Valor mínimo: {df_residencial_processed[coluna].min()}\", end = \"\\n\")\n",
    "    print(f\"Valor máximo: {df_residencial_processed[coluna].mean()}\", end = \"\\n\")\n",
    "    print(f\"Média: {df_residencial_processed[coluna].mean()}\", end = \"\\n\")\n",
    "    print(f\"Mediana: {df_residencial_processed[coluna].median()}\", end = \"\\n\")\n",
    "    print(f\"Desvio padrão: {df_residencial_processed[coluna].std()}\", end = \"\\n\\n\")\n",
    "    print(f\"Moda: {df_residencial_processed[coluna].mode()}\", end = \"\\n\")"
   ]
  },
  {
   "cell_type": "markdown",
   "metadata": {},
   "source": [
    "#### Valores demonstrados de forma gráfica"
   ]
  },
  {
   "cell_type": "code",
   "execution_count": null,
   "metadata": {},
   "outputs": [],
   "source": [
    "figura, eixos = plt.subplots(nrows = 5, ncols = 1, sharex = True, figsize = (14, 12))\n",
    "plt.suptitle(\"Consumo por estados - em Kw/h\")\n",
    "\n",
    "sns.barplot(df_residencial_processed.mean(), ax = eixos[0])\n",
    "eixos[0].set_title(\"Média\")\n",
    "\n",
    "sns.barplot(df_residencial_processed.median(), ax = eixos[1])\n",
    "eixos[1].set_title(\"Mediana\")\n",
    "\n",
    "sns.barplot(df_residencial_processed.max(), ax = eixos[2])\n",
    "eixos[2].set_title(\"Valor Máximo\")\n",
    "\n",
    "sns.barplot(df_residencial_processed.min(), ax = eixos[3])\n",
    "eixos[3].set_title(\"Valor Mínimo\")\n",
    "\n",
    "sns.barplot(df_residencial_processed.std(), ax = eixos[4])\n",
    "eixos[4].set_title(\"Desvio Padrão\")\n",
    "\n",
    "plt.xticks(rotation = 45, ha = \"right\")\n",
    "plt.show()"
   ]
  },
  {
   "cell_type": "code",
   "execution_count": null,
   "metadata": {},
   "outputs": [],
   "source": [
    "figura = plt.figure(figsize = (20, 8))\n",
    "\n",
    "sns.boxplot(df_residencial_processed, orient = \"v\")\n",
    "plt.xticks(rotation = 45, ha = \"right\")\n",
    "plt.title(\"Consumo por estados - em Kw/h\")\n",
    "\n",
    "plt.show()"
   ]
  },
  {
   "cell_type": "markdown",
   "metadata": {},
   "source": [
    "## Criando os Modelos"
   ]
  },
  {
   "cell_type": "markdown",
   "metadata": {},
   "source": [
    "### Criando uma nova coluna com valores categóricos\n",
    "- Alto\n",
    "- Baixo\n",
    "- Médio\n",
    "\n",
    "Os valores servirão para a previsão do modelo de árvore de decisão"
   ]
  },
  {
   "cell_type": "code",
   "execution_count": null,
   "metadata": {},
   "outputs": [],
   "source": [
    "colunas = df_residencial_processed.columns\n",
    "consumo_total = []\n",
    "\n",
    "for coluna in colunas:\n",
    "    consumo_do_estado_atual = df_residencial_processed.T.loc[coluna, :].sum()\n",
    "    # print(\"Coluna: \", coluna, end = \" \")\n",
    "    # print(consumo_do_estado_atual, end = \"\\n\\n\")\n",
    "    consumo_total.append(consumo_do_estado_atual)\n",
    "    \n",
    "# print(consumo_total)"
   ]
  },
  {
   "cell_type": "code",
   "execution_count": 24,
   "metadata": {},
   "outputs": [
    {
     "name": "stdout",
     "output_type": "stream",
     "text": [
      "28334063.0\n",
      "Primeiro quartil:  12484022.0\n",
      "Terceiro quartil:  55802407.5\n"
     ]
    }
   ],
   "source": [
    "consumo_total = pd.Series(consumo_total)\n",
    "primeiro_quartil = np.quantile(consumo_total, 0.25)\n",
    "terceiro_quartil = np.quantile(consumo_total, 0.75)\n",
    "\n",
    "print(\"Mediana: \", consumo_total.median())\n",
    "print(\"Primeiro quartil: \", primeiro_quartil)\n",
    "print(\"Terceiro quartil: \", terceiro_quartil)"
   ]
  },
  {
   "cell_type": "code",
   "execution_count": 25,
   "metadata": {},
   "outputs": [
    {
     "data": {
      "text/plain": [
       "0     1\n",
       "1     1\n",
       "2     0\n",
       "3     1\n",
       "4     0\n",
       "5     1\n",
       "6     1\n",
       "7     0\n",
       "8     1\n",
       "9     0\n",
       "10    0\n",
       "11    0\n",
       "12    0\n",
       "13    0\n",
       "14    1\n",
       "15    2\n",
       "16    2\n",
       "17    0\n",
       "18    2\n",
       "19    2\n",
       "20    2\n",
       "21    2\n",
       "22    2\n",
       "23    0\n",
       "24    0\n",
       "25    0\n",
       "26    0\n",
       "dtype: uint64"
      ]
     },
     "execution_count": 25,
     "metadata": {},
     "output_type": "execute_result"
    }
   ],
   "source": [
    "for i in consumo_total.index:\n",
    "    if consumo_total[i] > primeiro_quartil and consumo_total[i] < terceiro_quartil:\n",
    "        consumo_total[i] = 0 # NORMAL\n",
    "    elif consumo_total[i] < primeiro_quartil:\n",
    "        consumo_total[i] = 1 # BAIXO\n",
    "    else:\n",
    "        consumo_total[i] = 2 # ALTO\n",
    "        \n",
    "consumo_total"
   ]
  },
  {
   "cell_type": "code",
   "execution_count": 27,
   "metadata": {},
   "outputs": [
    {
     "data": {
      "text/html": [
       "<div>\n",
       "<style scoped>\n",
       "    .dataframe tbody tr th:only-of-type {\n",
       "        vertical-align: middle;\n",
       "    }\n",
       "\n",
       "    .dataframe tbody tr th {\n",
       "        vertical-align: top;\n",
       "    }\n",
       "\n",
       "    .dataframe thead tr th {\n",
       "        text-align: left;\n",
       "    }\n",
       "\n",
       "    .dataframe thead tr:last-of-type th {\n",
       "        text-align: right;\n",
       "    }\n",
       "</style>\n",
       "<table border=\"1\" class=\"dataframe\">\n",
       "  <thead>\n",
       "    <tr>\n",
       "      <th>ano</th>\n",
       "      <th colspan=\"10\" halign=\"left\">2004</th>\n",
       "      <th>...</th>\n",
       "      <th colspan=\"9\" halign=\"left\">2023</th>\n",
       "      <th>consumo</th>\n",
       "    </tr>\n",
       "    <tr>\n",
       "      <th>mes</th>\n",
       "      <th>JAN</th>\n",
       "      <th>FEV</th>\n",
       "      <th>MAR</th>\n",
       "      <th>ABR</th>\n",
       "      <th>MAI</th>\n",
       "      <th>JUN</th>\n",
       "      <th>JUL</th>\n",
       "      <th>AGO</th>\n",
       "      <th>SET</th>\n",
       "      <th>OUT</th>\n",
       "      <th>...</th>\n",
       "      <th>ABR</th>\n",
       "      <th>MAI</th>\n",
       "      <th>JUN</th>\n",
       "      <th>JUL</th>\n",
       "      <th>AGO</th>\n",
       "      <th>SET</th>\n",
       "      <th>OUT</th>\n",
       "      <th>NOV</th>\n",
       "      <th>DEZ</th>\n",
       "      <th></th>\n",
       "    </tr>\n",
       "    <tr>\n",
       "      <th>Empresa de Pesquisa Energética - EPE</th>\n",
       "      <th></th>\n",
       "      <th></th>\n",
       "      <th></th>\n",
       "      <th></th>\n",
       "      <th></th>\n",
       "      <th></th>\n",
       "      <th></th>\n",
       "      <th></th>\n",
       "      <th></th>\n",
       "      <th></th>\n",
       "      <th></th>\n",
       "      <th></th>\n",
       "      <th></th>\n",
       "      <th></th>\n",
       "      <th></th>\n",
       "      <th></th>\n",
       "      <th></th>\n",
       "      <th></th>\n",
       "      <th></th>\n",
       "      <th></th>\n",
       "      <th></th>\n",
       "    </tr>\n",
       "  </thead>\n",
       "  <tbody>\n",
       "    <tr>\n",
       "      <th>Rondônia</th>\n",
       "      <td>25870</td>\n",
       "      <td>23367</td>\n",
       "      <td>24153</td>\n",
       "      <td>24113</td>\n",
       "      <td>25789</td>\n",
       "      <td>24112</td>\n",
       "      <td>24312</td>\n",
       "      <td>25604</td>\n",
       "      <td>25980</td>\n",
       "      <td>27250</td>\n",
       "      <td>...</td>\n",
       "      <td>59678</td>\n",
       "      <td>63534</td>\n",
       "      <td>63088</td>\n",
       "      <td>60077</td>\n",
       "      <td>65204</td>\n",
       "      <td>68834</td>\n",
       "      <td>67340</td>\n",
       "      <td>69317</td>\n",
       "      <td>68373</td>\n",
       "      <td>NaN</td>\n",
       "    </tr>\n",
       "    <tr>\n",
       "      <th>Acre</th>\n",
       "      <td>7895</td>\n",
       "      <td>7329</td>\n",
       "      <td>7420</td>\n",
       "      <td>7345</td>\n",
       "      <td>7142</td>\n",
       "      <td>6955</td>\n",
       "      <td>7205</td>\n",
       "      <td>7580</td>\n",
       "      <td>8309</td>\n",
       "      <td>7910</td>\n",
       "      <td>...</td>\n",
       "      <td>21441</td>\n",
       "      <td>22452</td>\n",
       "      <td>21567</td>\n",
       "      <td>22285</td>\n",
       "      <td>24295</td>\n",
       "      <td>25331</td>\n",
       "      <td>25390</td>\n",
       "      <td>25277</td>\n",
       "      <td>24610</td>\n",
       "      <td>NaN</td>\n",
       "    </tr>\n",
       "    <tr>\n",
       "      <th>Amazonas</th>\n",
       "      <td>49832</td>\n",
       "      <td>50457</td>\n",
       "      <td>47374</td>\n",
       "      <td>49875</td>\n",
       "      <td>50280</td>\n",
       "      <td>50734</td>\n",
       "      <td>53678</td>\n",
       "      <td>52589</td>\n",
       "      <td>55148</td>\n",
       "      <td>55374</td>\n",
       "      <td>...</td>\n",
       "      <td>123118</td>\n",
       "      <td>133650</td>\n",
       "      <td>132674</td>\n",
       "      <td>138483</td>\n",
       "      <td>148584</td>\n",
       "      <td>147337</td>\n",
       "      <td>146305</td>\n",
       "      <td>140994</td>\n",
       "      <td>133602</td>\n",
       "      <td>NaN</td>\n",
       "    </tr>\n",
       "    <tr>\n",
       "      <th>Roraima</th>\n",
       "      <td>6141</td>\n",
       "      <td>5822</td>\n",
       "      <td>5494</td>\n",
       "      <td>6035</td>\n",
       "      <td>5548</td>\n",
       "      <td>5472</td>\n",
       "      <td>5876</td>\n",
       "      <td>5820</td>\n",
       "      <td>5652</td>\n",
       "      <td>5980</td>\n",
       "      <td>...</td>\n",
       "      <td>23108</td>\n",
       "      <td>23453</td>\n",
       "      <td>22501</td>\n",
       "      <td>22241</td>\n",
       "      <td>26455</td>\n",
       "      <td>26748</td>\n",
       "      <td>26993</td>\n",
       "      <td>26314</td>\n",
       "      <td>24974</td>\n",
       "      <td>NaN</td>\n",
       "    </tr>\n",
       "    <tr>\n",
       "      <th>Pará</th>\n",
       "      <td>78075</td>\n",
       "      <td>72467</td>\n",
       "      <td>75857</td>\n",
       "      <td>78779</td>\n",
       "      <td>79714</td>\n",
       "      <td>82470</td>\n",
       "      <td>79919</td>\n",
       "      <td>83589</td>\n",
       "      <td>83100</td>\n",
       "      <td>82032</td>\n",
       "      <td>...</td>\n",
       "      <td>184017</td>\n",
       "      <td>189880</td>\n",
       "      <td>197274</td>\n",
       "      <td>198387</td>\n",
       "      <td>206946</td>\n",
       "      <td>207992</td>\n",
       "      <td>213696</td>\n",
       "      <td>218560</td>\n",
       "      <td>206848</td>\n",
       "      <td>NaN</td>\n",
       "    </tr>\n",
       "    <tr>\n",
       "      <th>Amapá</th>\n",
       "      <td>12164</td>\n",
       "      <td>3894</td>\n",
       "      <td>8639</td>\n",
       "      <td>8461</td>\n",
       "      <td>7704</td>\n",
       "      <td>8309</td>\n",
       "      <td>8733</td>\n",
       "      <td>7858</td>\n",
       "      <td>8850</td>\n",
       "      <td>9621</td>\n",
       "      <td>...</td>\n",
       "      <td>22833</td>\n",
       "      <td>23913</td>\n",
       "      <td>25023</td>\n",
       "      <td>25092</td>\n",
       "      <td>30217</td>\n",
       "      <td>25102</td>\n",
       "      <td>27594</td>\n",
       "      <td>27976</td>\n",
       "      <td>27175</td>\n",
       "      <td>NaN</td>\n",
       "    </tr>\n",
       "    <tr>\n",
       "      <th>Tocantins</th>\n",
       "      <td>13832</td>\n",
       "      <td>12160</td>\n",
       "      <td>13819</td>\n",
       "      <td>14883</td>\n",
       "      <td>15465</td>\n",
       "      <td>16111</td>\n",
       "      <td>14775</td>\n",
       "      <td>15815</td>\n",
       "      <td>17041</td>\n",
       "      <td>16450</td>\n",
       "      <td>...</td>\n",
       "      <td>37873</td>\n",
       "      <td>40181</td>\n",
       "      <td>41039</td>\n",
       "      <td>40260</td>\n",
       "      <td>41552</td>\n",
       "      <td>43376</td>\n",
       "      <td>44697</td>\n",
       "      <td>43095</td>\n",
       "      <td>43730</td>\n",
       "      <td>NaN</td>\n",
       "    </tr>\n",
       "    <tr>\n",
       "      <th>Maranhão</th>\n",
       "      <td>40478</td>\n",
       "      <td>37893</td>\n",
       "      <td>40878</td>\n",
       "      <td>40503</td>\n",
       "      <td>42202</td>\n",
       "      <td>42065</td>\n",
       "      <td>41961</td>\n",
       "      <td>43550</td>\n",
       "      <td>44972</td>\n",
       "      <td>43339</td>\n",
       "      <td>...</td>\n",
       "      <td>93987</td>\n",
       "      <td>104726</td>\n",
       "      <td>103675</td>\n",
       "      <td>105214</td>\n",
       "      <td>109107</td>\n",
       "      <td>108778</td>\n",
       "      <td>113651</td>\n",
       "      <td>111837</td>\n",
       "      <td>111114</td>\n",
       "      <td>NaN</td>\n",
       "    </tr>\n",
       "    <tr>\n",
       "      <th>Piauí</th>\n",
       "      <td>25398</td>\n",
       "      <td>20769</td>\n",
       "      <td>20862</td>\n",
       "      <td>24450</td>\n",
       "      <td>22877</td>\n",
       "      <td>24519</td>\n",
       "      <td>22937</td>\n",
       "      <td>22760</td>\n",
       "      <td>25997</td>\n",
       "      <td>25217</td>\n",
       "      <td>...</td>\n",
       "      <td>69513</td>\n",
       "      <td>74618</td>\n",
       "      <td>73832</td>\n",
       "      <td>74616</td>\n",
       "      <td>79158</td>\n",
       "      <td>84283</td>\n",
       "      <td>85288</td>\n",
       "      <td>84302</td>\n",
       "      <td>81191</td>\n",
       "      <td>NaN</td>\n",
       "    </tr>\n",
       "    <tr>\n",
       "      <th>Ceará</th>\n",
       "      <td>95718</td>\n",
       "      <td>86036</td>\n",
       "      <td>90007</td>\n",
       "      <td>97130</td>\n",
       "      <td>90758</td>\n",
       "      <td>93769</td>\n",
       "      <td>87315</td>\n",
       "      <td>92398</td>\n",
       "      <td>97622</td>\n",
       "      <td>93272</td>\n",
       "      <td>...</td>\n",
       "      <td>198290</td>\n",
       "      <td>193551</td>\n",
       "      <td>209262</td>\n",
       "      <td>187632</td>\n",
       "      <td>201380</td>\n",
       "      <td>201891</td>\n",
       "      <td>200356</td>\n",
       "      <td>215924</td>\n",
       "      <td>212461</td>\n",
       "      <td>NaN</td>\n",
       "    </tr>\n",
       "  </tbody>\n",
       "</table>\n",
       "<p>10 rows × 241 columns</p>\n",
       "</div>"
      ],
      "text/plain": [
       "ano                                    2004                              \\\n",
       "mes                                     JAN    FEV    MAR    ABR    MAI   \n",
       "Empresa de Pesquisa Energética - EPE                                      \n",
       "Rondônia                              25870  23367  24153  24113  25789   \n",
       "Acre                                   7895   7329   7420   7345   7142   \n",
       "Amazonas                              49832  50457  47374  49875  50280   \n",
       "Roraima                                6141   5822   5494   6035   5548   \n",
       "Pará                                  78075  72467  75857  78779  79714   \n",
       "Amapá                                 12164   3894   8639   8461   7704   \n",
       "Tocantins                             13832  12160  13819  14883  15465   \n",
       "Maranhão                              40478  37893  40878  40503  42202   \n",
       "Piauí                                 25398  20769  20862  24450  22877   \n",
       "Ceará                                 95718  86036  90007  97130  90758   \n",
       "\n",
       "ano                                                                      ...  \\\n",
       "mes                                     JUN    JUL    AGO    SET    OUT  ...   \n",
       "Empresa de Pesquisa Energética - EPE                                     ...   \n",
       "Rondônia                              24112  24312  25604  25980  27250  ...   \n",
       "Acre                                   6955   7205   7580   8309   7910  ...   \n",
       "Amazonas                              50734  53678  52589  55148  55374  ...   \n",
       "Roraima                                5472   5876   5820   5652   5980  ...   \n",
       "Pará                                  82470  79919  83589  83100  82032  ...   \n",
       "Amapá                                  8309   8733   7858   8850   9621  ...   \n",
       "Tocantins                             16111  14775  15815  17041  16450  ...   \n",
       "Maranhão                              42065  41961  43550  44972  43339  ...   \n",
       "Piauí                                 24519  22937  22760  25997  25217  ...   \n",
       "Ceará                                 93769  87315  92398  97622  93272  ...   \n",
       "\n",
       "ano                                     2023                                  \\\n",
       "mes                                      ABR     MAI     JUN     JUL     AGO   \n",
       "Empresa de Pesquisa Energética - EPE                                           \n",
       "Rondônia                               59678   63534   63088   60077   65204   \n",
       "Acre                                   21441   22452   21567   22285   24295   \n",
       "Amazonas                              123118  133650  132674  138483  148584   \n",
       "Roraima                                23108   23453   22501   22241   26455   \n",
       "Pará                                  184017  189880  197274  198387  206946   \n",
       "Amapá                                  22833   23913   25023   25092   30217   \n",
       "Tocantins                              37873   40181   41039   40260   41552   \n",
       "Maranhão                               93987  104726  103675  105214  109107   \n",
       "Piauí                                  69513   74618   73832   74616   79158   \n",
       "Ceará                                 198290  193551  209262  187632  201380   \n",
       "\n",
       "ano                                                                  consumo  \n",
       "mes                                      SET     OUT     NOV     DEZ          \n",
       "Empresa de Pesquisa Energética - EPE                                          \n",
       "Rondônia                               68834   67340   69317   68373     NaN  \n",
       "Acre                                   25331   25390   25277   24610     NaN  \n",
       "Amazonas                              147337  146305  140994  133602     NaN  \n",
       "Roraima                                26748   26993   26314   24974     NaN  \n",
       "Pará                                  207992  213696  218560  206848     NaN  \n",
       "Amapá                                  25102   27594   27976   27175     NaN  \n",
       "Tocantins                              43376   44697   43095   43730     NaN  \n",
       "Maranhão                              108778  113651  111837  111114     NaN  \n",
       "Piauí                                  84283   85288   84302   81191     NaN  \n",
       "Ceará                                 201891  200356  215924  212461     NaN  \n",
       "\n",
       "[10 rows x 241 columns]"
      ]
     },
     "execution_count": 27,
     "metadata": {},
     "output_type": "execute_result"
    }
   ],
   "source": [
    "df_residencial_com_valor_categorico = df_residencial_processed.T\n",
    "df_residencial_com_valor_categorico[\"consumo\"] = consumo_total\n",
    "df_residencial_com_valor_categorico.head(10)"
   ]
  },
  {
   "cell_type": "markdown",
   "metadata": {},
   "source": [
    "### Consumo Residencial por UF"
   ]
  },
  {
   "cell_type": "code",
   "execution_count": null,
   "metadata": {},
   "outputs": [],
   "source": [
    "from models import DecisionTree\n",
    "\n",
    "arvore_decisao = DecisionTree()"
   ]
  },
  {
   "cell_type": "markdown",
   "metadata": {},
   "source": [
    "## Treinando os Modelos"
   ]
  },
  {
   "cell_type": "code",
   "execution_count": null,
   "metadata": {},
   "outputs": [],
   "source": []
  },
  {
   "cell_type": "markdown",
   "metadata": {},
   "source": [
    "## Resultados dos Modelos"
   ]
  },
  {
   "cell_type": "markdown",
   "metadata": {},
   "source": [
    "### Testes"
   ]
  },
  {
   "cell_type": "code",
   "execution_count": null,
   "metadata": {},
   "outputs": [],
   "source": []
  },
  {
   "cell_type": "markdown",
   "metadata": {},
   "source": [
    "### Qualidade dos Testes e Resultados"
   ]
  },
  {
   "cell_type": "code",
   "execution_count": null,
   "metadata": {},
   "outputs": [],
   "source": []
  },
  {
   "cell_type": "markdown",
   "metadata": {},
   "source": [
    "## Discussão"
   ]
  },
  {
   "cell_type": "markdown",
   "metadata": {
    "vscode": {
     "languageId": "plaintext"
    }
   },
   "source": [
    "A discussão vai aqui"
   ]
  }
 ],
 "metadata": {
  "kernelspec": {
   "display_name": ".petca-venv",
   "language": "python",
   "name": "python3"
  },
  "language_info": {
   "codemirror_mode": {
    "name": "ipython",
    "version": 3
   },
   "file_extension": ".py",
   "mimetype": "text/x-python",
   "name": "python",
   "nbconvert_exporter": "python",
   "pygments_lexer": "ipython3",
   "version": "3.12.3"
  }
 },
 "nbformat": 4,
 "nbformat_minor": 2
}
