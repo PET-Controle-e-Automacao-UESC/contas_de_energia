{
 "cells": [
  {
   "cell_type": "markdown",
   "metadata": {},
   "source": [
    "# PETCA - Projeto de Análise de Contas de Energia com Aprendizado de Máquina e Redes Neurais"
   ]
  },
  {
   "cell_type": "markdown",
   "metadata": {},
   "source": [
    "## Índice\n",
    "- [Modelos Utilizados](#modelos-utilizados)\n",
    "- [Importando Pacotes e Bibliotecas](#importando-os-pacotes-e-bibliotecas)\n",
    "- [Importando os Datasets](#importando-os-datasets)\n",
    "- [Análise Inicial dos Datasets](#análise-inicial-dos-datasets)\n",
    "- [Análise Exploratória dos Dados](#aed)\n",
    "- [Criando os Modelos](#criando-os-modelos)\n",
    "- [Treinando os Modelos](#treinando-os-modelos)\n",
    "- [Resultados os Modelos](#resultados-dos-modelos)\n",
    "    - [Realização dos Testes](#testes)\n",
    "    - [Qualidade dos Modelos](#qualidade-dos-testes-e-resultados)\n",
    "- [Discussão](#discussão)"
   ]
  },
  {
   "cell_type": "markdown",
   "metadata": {},
   "source": [
    "## Modelos Utilizados\n",
    "- Árvore de Decisão (Decision Tree)\n",
    "- Ensemble\n",
    "- Floresta Randômica (Random Forest)\n",
    "- Redes Neurais Convolucionais\n",
    "- Regressão Linear\n",
    "- Regressão Polinomial\n",
    "- Support Vector Machine (SVM)"
   ]
  },
  {
   "cell_type": "markdown",
   "metadata": {},
   "source": [
    "## Importando os pacotes e bibliotecas"
   ]
  },
  {
   "cell_type": "code",
   "execution_count": null,
   "metadata": {},
   "outputs": [],
   "source": [
    "# biblioteca para realizar o corte teste | treino\n",
    "from sklearn.model_selection import train_test_split\n",
    "\n",
    "# bibliotecas de classificacao\n",
    "## Floresta Randomica;\n",
    "## Arvore de Decisao; e\n",
    "## Support Vector Machine (SVM).\n",
    "from sklearn.ensemble  import RandomForestClassifier\n",
    "from sklearn.tree import DecisionTreeClassifier\n",
    "from sklearn.svm import SVC\n",
    "\n",
    "# biblioteca de modelos polinomiais\n",
    "from sklearn.preprocessing import PolynomialFeatures\n",
    "\n",
    "# biblioteca de modelos lineares\n",
    "## Regressao Linear; e\n",
    "## Support Vector Machine (SVM).\n",
    "from sklearn.linear_model import LinearRegression\n",
    "from sklearn.svm import SVR\n",
    "\n",
    "# bibliotecas de suporte -----\n",
    "## Impressao de Graficos\n",
    "from matplotlib import pyplot as plt\n",
    "import seaborn as sns\n",
    "\n",
    "## Bibliotecas Base\n",
    "import pandas as pd\n",
    "import numpy as np\n",
    "# ----------------------------\n",
    "\n",
    "# bibliotecas e pacotes do TensorFlow\n",
    "## Redes Neurais Convolucionais\n",
    "import tensorflow as tf\n",
    "from keras import layers, models"
   ]
  },
  {
   "cell_type": "markdown",
   "metadata": {},
   "source": [
    "## Importando os datasets"
   ]
  },
  {
   "cell_type": "code",
   "execution_count": null,
   "metadata": {},
   "outputs": [],
   "source": [
    "df_residencial_raw = pd.read_csv(\"./databases/raw/CONSUMO MENSAL DE ENERGIA ELÉTRICA POR CLASSE - CONSUMO COMERCIAL POR UF.csv\", sep = \",\", index_col = 0)"
   ]
  },
  {
   "cell_type": "markdown",
   "metadata": {},
   "source": [
    "## Análise Inicial dos Datasets"
   ]
  },
  {
   "cell_type": "markdown",
   "metadata": {},
   "source": [
    "### Consumo Residencial por UF"
   ]
  },
  {
   "cell_type": "code",
   "execution_count": null,
   "metadata": {},
   "outputs": [],
   "source": [
    "df_residencial_raw.sample(10)"
   ]
  },
  {
   "cell_type": "markdown",
   "metadata": {},
   "source": [
    "#### Quantidade de valores nulos"
   ]
  },
  {
   "cell_type": "code",
   "execution_count": null,
   "metadata": {},
   "outputs": [],
   "source": [
    "df_residencial_transposto = df_residencial_raw.transpose()\n",
    "df_residencial_transposto.sample(10)"
   ]
  },
  {
   "cell_type": "code",
   "execution_count": null,
   "metadata": {},
   "outputs": [],
   "source": [
    "columns_to_be_droped = [\n",
    "    \"Consumo de energia elétrica na rede (MWh)\",\n",
    "    \"Sistema SIMPLES\",\n",
    "    \"Nota: atualização defasada para não antecipar informações de distribuidoras que devem obedecer às intruções da CVM sobre publicação de resultados.\",\n",
    "    \"TOTAL POR UF\"\n",
    "]"
   ]
  },
  {
   "cell_type": "code",
   "execution_count": null,
   "metadata": {},
   "outputs": [],
   "source": [
    "df_residencial_transposto.drop(columns = columns_to_be_droped, inplace = True, axis = \"columns\")\n",
    "df_residencial_transposto.sample(10)"
   ]
  },
  {
   "cell_type": "markdown",
   "metadata": {},
   "source": [
    "## Renomeando colunas que não possuiam nomes"
   ]
  },
  {
   "cell_type": "code",
   "execution_count": null,
   "metadata": {},
   "outputs": [],
   "source": [
    "columns_to_rename = pd.Series(df_residencial_transposto.columns)\n",
    "columns_to_rename = columns_to_rename.fillna(\"new_name\" + (columns_to_rename.groupby(columns_to_rename.isnull()).cumcount() + 1).astype(str))\n",
    "df_residencial_transposto.columns = columns_to_rename\n",
    "df_residencial_transposto.sample(10)"
   ]
  },
  {
   "cell_type": "markdown",
   "metadata": {},
   "source": [
    "### Excluindo coluna insignificante"
   ]
  },
  {
   "cell_type": "code",
   "execution_count": null,
   "metadata": {},
   "outputs": [],
   "source": [
    "df_residencial_transposto.drop(columns = [\"new_name1\"], inplace = True, axis = \"columns\")\n",
    "df_residencial_transposto.sample(10)"
   ]
  },
  {
   "cell_type": "markdown",
   "metadata": {},
   "source": [
    "### Renomeando colunas \"ano\" e \"mês\""
   ]
  },
  {
   "cell_type": "code",
   "execution_count": null,
   "metadata": {},
   "outputs": [],
   "source": [
    "columns_to_rename = {\n",
    "    \"new_name2\" : \"ano\",\n",
    "    \"new_name3\" : \"mes\"\n",
    "}\n",
    "\n",
    "df_residencial_transposto.rename(mapper = columns_to_rename, axis = \"columns\", inplace = True)\n",
    "df_residencial_transposto.head(5)"
   ]
  },
  {
   "cell_type": "markdown",
   "metadata": {},
   "source": [
    "### Preenchendo a coluna \"ano\" com valores corretos do ano"
   ]
  },
  {
   "cell_type": "code",
   "execution_count": null,
   "metadata": {},
   "outputs": [],
   "source": [
    "df_residencial_transposto[\"ano\"] = df_residencial_transposto[\"ano\"].ffill()"
   ]
  },
  {
   "cell_type": "markdown",
   "metadata": {},
   "source": [
    "## Transformando colunas importantes em Índice"
   ]
  },
  {
   "cell_type": "code",
   "execution_count": null,
   "metadata": {},
   "outputs": [],
   "source": [
    "df_residencial_transposto[\"ano\"].unique()"
   ]
  },
  {
   "cell_type": "code",
   "execution_count": null,
   "metadata": {},
   "outputs": [],
   "source": [
    "df_residencial_transposto[\"mes\"].unique()"
   ]
  },
  {
   "cell_type": "code",
   "execution_count": null,
   "metadata": {},
   "outputs": [],
   "source": [
    "df_residencial_transposto.columns"
   ]
  },
  {
   "cell_type": "code",
   "execution_count": null,
   "metadata": {},
   "outputs": [],
   "source": [
    "df_residencial_transposto.reset_index(inplace = True)\n",
    "df_residencial_transposto[\"ano\"] = df_residencial_transposto[\"ano\"].astype(\"str\")\n",
    "df_residencial_transposto[\"mes\"] = df_residencial_transposto[\"mes\"].astype(\"str\")\n",
    "df_residencial_transposto.set_index([\"ano\", \"mes\"], inplace = True)\n",
    "df_residencial_transposto.drop(columns = [\"index\"], axis = \"columns\", inplace = True)"
   ]
  },
  {
   "cell_type": "code",
   "execution_count": null,
   "metadata": {},
   "outputs": [],
   "source": [
    "df_residencial_transposto.sample(10)"
   ]
  },
  {
   "cell_type": "markdown",
   "metadata": {},
   "source": [
    "### Deletando a linha NaN do índice"
   ]
  },
  {
   "cell_type": "code",
   "execution_count": null,
   "metadata": {},
   "outputs": [],
   "source": [
    "df_residencial_processed = df_residencial_transposto.iloc[ : df_residencial_transposto.shape[0] - 12, :]\n",
    "df_residencial_processed.tail(20)"
   ]
  },
  {
   "cell_type": "markdown",
   "metadata": {},
   "source": [
    "### Verificandos os tipos das colunas do dataset"
   ]
  },
  {
   "cell_type": "code",
   "execution_count": null,
   "metadata": {},
   "outputs": [],
   "source": [
    "df_residencial_processed.dtypes"
   ]
  },
  {
   "cell_type": "markdown",
   "metadata": {},
   "source": [
    "### Trocando os tipos dos dados para melhor compressão e compreensão do dataset"
   ]
  },
  {
   "cell_type": "markdown",
   "metadata": {},
   "source": [
    "Os dados serão trocados para o tipo \"unsigned integer\" de 32 bits"
   ]
  },
  {
   "cell_type": "code",
   "execution_count": null,
   "metadata": {},
   "outputs": [],
   "source": [
    "for coluna in df_residencial_processed.columns:\n",
    "    df_residencial_processed[coluna] = [valor.replace(\".\", \"\") for valor in df_residencial_processed[coluna]]"
   ]
  },
  {
   "cell_type": "code",
   "execution_count": null,
   "metadata": {},
   "outputs": [],
   "source": [
    "df_residencial_processed[\"Rondônia\"] = df_residencial_processed[\"Rondônia\"].astype(\"uint32\")\n",
    "df_residencial_processed[\"Acre\"] = df_residencial_processed[\"Acre\"].astype(\"uint32\")\n",
    "df_residencial_processed[\"Amazonas\"] = df_residencial_processed[\"Amazonas\"].astype(\"uint32\")\n",
    "df_residencial_processed[\"Roraima\"] = df_residencial_processed[\"Roraima\"].astype(\"uint32\")\n",
    "df_residencial_processed[\"Pará\"] = df_residencial_processed[\"Pará\"].astype(\"uint32\")\n",
    "df_residencial_processed[\"Amapá\"] = df_residencial_processed[\"Amapá\"].astype(\"uint32\")\n",
    "df_residencial_processed[\"Tocantins\"] = df_residencial_processed[\"Tocantins\"].astype(\"uint32\")\n",
    "df_residencial_processed[\"Maranhão\"] = df_residencial_processed[\"Maranhão\"].astype(\"uint32\")\n",
    "df_residencial_processed[\"Piauí\"] = df_residencial_processed[\"Piauí\"].astype(\"uint32\")\n",
    "df_residencial_processed[\"Ceará\"] = df_residencial_processed[\"Ceará\"].astype(\"uint32\")\n",
    "df_residencial_processed[\"Rio Grande do Norte\"] = df_residencial_processed[\"Rio Grande do Norte\"].astype(\"uint32\")\n",
    "df_residencial_processed[\"Paraíba\"] = df_residencial_processed[\"Paraíba\"].astype(\"uint32\")\n",
    "df_residencial_processed[\"Pernambuco\"] = df_residencial_processed[\"Pernambuco\"].astype(\"uint32\")\n",
    "df_residencial_processed[\"Alagoas\"] = df_residencial_processed[\"Alagoas\"].astype(\"uint32\")\n",
    "df_residencial_processed[\"Sergipe\"] = df_residencial_processed[\"Sergipe\"].astype(\"uint32\")\n",
    "df_residencial_processed[\"Bahia\"] = df_residencial_processed[\"Bahia\"].astype(\"uint32\")\n",
    "df_residencial_processed[\"Minas Gerais\"] = df_residencial_processed[\"Minas Gerais\"].astype(\"uint32\")\n",
    "df_residencial_processed[\"Espírito Santo\"] = df_residencial_processed[\"Espírito Santo\"].astype(\"uint32\")\n",
    "df_residencial_processed[\"Rio de Janeiro\"] = df_residencial_processed[\"Rio de Janeiro\"].astype(\"uint32\")\n",
    "df_residencial_processed[\"São Paulo\"] = df_residencial_processed[\"São Paulo\"].astype(\"uint32\")\n",
    "df_residencial_processed[\"Paraná\"] = df_residencial_processed[\"Paraná\"].astype(\"uint32\")\n",
    "df_residencial_processed[\"Santa Catarina\"] = df_residencial_processed[\"Santa Catarina\"].astype(\"uint32\")\n",
    "df_residencial_processed[\"Rio Grande do Sul\"] = df_residencial_processed[\"Rio Grande do Sul\"].astype(\"uint32\")\n",
    "df_residencial_processed[\"Mato Grosso do Sul\"] = df_residencial_processed[\"Mato Grosso do Sul\"].astype(\"uint32\")\n",
    "df_residencial_processed[\"Mato Grosso\"] = df_residencial_processed[\"Mato Grosso\"].astype(\"uint32\")\n",
    "df_residencial_processed[\"Goiás\"] = df_residencial_processed[\"Goiás\"].astype(\"uint32\")\n",
    "df_residencial_processed[\"Distrito Federal\"] = df_residencial_processed[\"Distrito Federal\"].astype(\"uint32\")"
   ]
  },
  {
   "cell_type": "markdown",
   "metadata": {},
   "source": [
    "### Conferindo a troca de tipos"
   ]
  },
  {
   "cell_type": "code",
   "execution_count": null,
   "metadata": {},
   "outputs": [],
   "source": [
    "df_residencial_processed.dtypes"
   ]
  },
  {
   "cell_type": "markdown",
   "metadata": {},
   "source": [
    "## Salvando os datasets tratados\n",
    "### Eles serão salvos em .pkl (pickle)\n",
    "Essa extensão criada pelos desenvolvedores da biblioteca pandas salva os metadados dos datasets enquanto comprime seu tamanho de arquivo"
   ]
  },
  {
   "cell_type": "code",
   "execution_count": null,
   "metadata": {},
   "outputs": [],
   "source": [
    "df_residencial_processed.to_pickle(path = \"./databases/processed/classes-consumoComercialPorUF.pkl\")"
   ]
  },
  {
   "cell_type": "markdown",
   "metadata": {},
   "source": [
    "## AED\n",
    "### Análise Exploratória dos Dados"
   ]
  },
  {
   "cell_type": "markdown",
   "metadata": {},
   "source": [
    "### Lendo os datasets tratados em formato pickle"
   ]
  },
  {
   "cell_type": "code",
   "execution_count": null,
   "metadata": {},
   "outputs": [],
   "source": [
    "df_residencial_processed = pd.read_pickle(\"./databases/processed/classes-consumoComercialPorUF.pkl\")"
   ]
  },
  {
   "cell_type": "markdown",
   "metadata": {},
   "source": [
    "### Consumo Residencial por UF"
   ]
  },
  {
   "cell_type": "markdown",
   "metadata": {},
   "source": [
    "#### Informações básicas aglutinadas"
   ]
  },
  {
   "cell_type": "code",
   "execution_count": null,
   "metadata": {},
   "outputs": [],
   "source": [
    "df_residencial_processed.info()"
   ]
  },
  {
   "cell_type": "markdown",
   "metadata": {},
   "source": [
    "#### Valores demonstrados de forma numéricas"
   ]
  },
  {
   "cell_type": "code",
   "execution_count": null,
   "metadata": {},
   "outputs": [],
   "source": [
    "for coluna in df_residencial_processed.columns:\n",
    "    print(\"Estado \" + coluna, end = \"\\n\")\n",
    "    print(f\"Valor mínimo: {df_residencial_processed[coluna].min()}\", end = \"\\n\")\n",
    "    print(f\"Valor máximo: {df_residencial_processed[coluna].mean()}\", end = \"\\n\")\n",
    "    print(f\"Média: {df_residencial_processed[coluna].mean()}\", end = \"\\n\")\n",
    "    print(f\"Mediana: {df_residencial_processed[coluna].median()}\", end = \"\\n\")\n",
    "    print(f\"Desvio padrão: {df_residencial_processed[coluna].std()}\", end = \"\\n\\n\")\n",
    "    print(f\"Moda: {df_residencial_processed[coluna].mode()}\", end = \"\\n\")"
   ]
  },
  {
   "cell_type": "markdown",
   "metadata": {},
   "source": [
    "#### Valores demonstrados de forma gráfica"
   ]
  },
  {
   "cell_type": "code",
   "execution_count": null,
   "metadata": {},
   "outputs": [],
   "source": [
    "figura, eixos = plt.subplots(nrows = 5, ncols = 1, sharex = True, figsize = (14, 12))\n",
    "plt.suptitle(\"Consumo por estados - em Kw/h\")\n",
    "\n",
    "sns.barplot(df_residencial_processed.mean(), ax = eixos[0])\n",
    "eixos[0].set_title(\"Média\")\n",
    "\n",
    "sns.barplot(df_residencial_processed.median(), ax = eixos[1])\n",
    "eixos[1].set_title(\"Mediana\")\n",
    "\n",
    "sns.barplot(df_residencial_processed.max(), ax = eixos[2])\n",
    "eixos[2].set_title(\"Valor Máximo\")\n",
    "\n",
    "sns.barplot(df_residencial_processed.min(), ax = eixos[3])\n",
    "eixos[3].set_title(\"Valor Mínimo\")\n",
    "\n",
    "sns.barplot(df_residencial_processed.std(), ax = eixos[4])\n",
    "eixos[4].set_title(\"Desvio Padrão\")\n",
    "\n",
    "plt.xticks(rotation = 45, ha = \"right\")\n",
    "plt.show()"
   ]
  },
  {
   "cell_type": "code",
   "execution_count": null,
   "metadata": {},
   "outputs": [],
   "source": [
    "figura = plt.figure(figsize = (20, 8))\n",
    "\n",
    "sns.boxplot(df_residencial_processed, orient = \"v\")\n",
    "plt.xticks(rotation = 45, ha = \"right\")\n",
    "plt.title(\"Consumo por estados - em Kw/h\")\n",
    "\n",
    "plt.show()"
   ]
  },
  {
   "cell_type": "markdown",
   "metadata": {},
   "source": [
    "## Criando os Modelos"
   ]
  },
  {
   "cell_type": "markdown",
   "metadata": {},
   "source": [
    "### Criando uma nova coluna com valores categóricos\n",
    "- Alto\n",
    "- Baixo\n",
    "- Médio\n",
    "\n",
    "Os valores servirão para a previsão do modelo de árvore de decisão"
   ]
  },
  {
   "cell_type": "code",
   "execution_count": null,
   "metadata": {},
   "outputs": [],
   "source": [
    "colunas = df_residencial_processed.columns\n",
    "consumo_total = []\n",
    "\n",
    "for coluna in colunas:\n",
    "    consumo_do_estado_atual = df_residencial_processed.T.loc[coluna, :].sum()\n",
    "    # print(\"Coluna: \", coluna, end = \" \")\n",
    "    # print(consumo_do_estado_atual, end = \"\\n\\n\")\n",
    "    consumo_total.append(consumo_do_estado_atual)\n",
    "    \n",
    "print(consumo_total)"
   ]
  },
  {
   "cell_type": "markdown",
   "metadata": {},
   "source": [
    "### AED - consumo total"
   ]
  },
  {
   "cell_type": "code",
   "execution_count": null,
   "metadata": {},
   "outputs": [],
   "source": [
    "primeiro_quartil = np.quantile(consumo_total, 0.25)\n",
    "terceiro_quartil = np.quantile(consumo_total, 0.75)\n",
    "\n",
    "print(\"Primeiro quartil: \", primeiro_quartil)\n",
    "print(\"Terceiro quartil: \", terceiro_quartil)"
   ]
  },
  {
   "cell_type": "markdown",
   "metadata": {},
   "source": [
    "### Escalando os valores para fazê-los de categóricos"
   ]
  },
  {
   "cell_type": "code",
   "execution_count": null,
   "metadata": {},
   "outputs": [],
   "source": [
    "for i in range(0, len(consumo_total)):\n",
    "    if consumo_total[i] > primeiro_quartil and consumo_total[i] < terceiro_quartil:\n",
    "        consumo_total[i] = 0 # NORMAL\n",
    "    elif consumo_total[i] < primeiro_quartil:\n",
    "        consumo_total[i] = 1 # BAIXO\n",
    "    else:\n",
    "        consumo_total[i] = 2 # ALTO\n",
    "        \n",
    "print(consumo_total)"
   ]
  },
  {
   "cell_type": "markdown",
   "metadata": {},
   "source": [
    "### Verificando mundaça"
   ]
  },
  {
   "cell_type": "code",
   "execution_count": null,
   "metadata": {},
   "outputs": [],
   "source": [
    "df_residencial_com_valor_categorico = df_residencial_processed.T\n",
    "df_residencial_com_valor_categorico[\"consumo\"] = consumo_total\n",
    "df_residencial_com_valor_categorico.head(10)"
   ]
  },
  {
   "cell_type": "markdown",
   "metadata": {},
   "source": [
    "### Consumo Residencial por UF"
   ]
  },
  {
   "cell_type": "code",
   "execution_count": null,
   "metadata": {},
   "outputs": [],
   "source": [
    "from models import DecisionTree\n",
    "\n",
    "arvore_decisao = DecisionTree()"
   ]
  },
  {
   "cell_type": "code",
   "execution_count": null,
   "metadata": {},
   "outputs": [],
   "source": [
    "X = df_residencial_com_valor_categorico.drop(columns = [\"consumo\"])\n",
    "y = df_residencial_com_valor_categorico[\"consumo\"]"
   ]
  },
  {
   "cell_type": "markdown",
   "metadata": {},
   "source": [
    "## Treinando os Modelos"
   ]
  },
  {
   "cell_type": "code",
   "execution_count": null,
   "metadata": {},
   "outputs": [],
   "source": []
  },
  {
   "cell_type": "markdown",
   "metadata": {},
   "source": [
    "## Resultados dos Modelos"
   ]
  },
  {
   "cell_type": "markdown",
   "metadata": {},
   "source": [
    "### Testes"
   ]
  },
  {
   "cell_type": "code",
   "execution_count": null,
   "metadata": {},
   "outputs": [],
   "source": []
  },
  {
   "cell_type": "markdown",
   "metadata": {},
   "source": [
    "### Qualidade dos Testes e Resultados"
   ]
  },
  {
   "cell_type": "code",
   "execution_count": null,
   "metadata": {},
   "outputs": [],
   "source": []
  },
  {
   "cell_type": "markdown",
   "metadata": {},
   "source": [
    "## Discussão"
   ]
  },
  {
   "cell_type": "markdown",
   "metadata": {
    "vscode": {
     "languageId": "plaintext"
    }
   },
   "source": [
    "A discussão vai aqui"
   ]
  }
 ],
 "metadata": {
  "kernelspec": {
   "display_name": ".petca-venv",
   "language": "python",
   "name": "python3"
  },
  "language_info": {
   "codemirror_mode": {
    "name": "ipython",
    "version": 3
   },
   "file_extension": ".py",
   "mimetype": "text/x-python",
   "name": "python",
   "nbconvert_exporter": "python",
   "pygments_lexer": "ipython3",
   "version": "3.12.3"
  }
 },
 "nbformat": 4,
 "nbformat_minor": 2
}
