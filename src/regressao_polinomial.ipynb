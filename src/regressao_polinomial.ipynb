{
 "cells": [
  {
   "cell_type": "markdown",
   "metadata": {},
   "source": [
    "# Algoritmo de Regressão Polinomial - LinearRegression e PolynomialFeatures"
   ]
  },
  {
   "cell_type": "markdown",
   "metadata": {},
   "source": [
    "## Link para o notebook principal"
   ]
  },
  {
   "cell_type": "markdown",
   "metadata": {},
   "source": [
    "[Ir para main.ipynb](./main.ipynb)"
   ]
  },
  {
   "cell_type": "markdown",
   "metadata": {},
   "source": [
    "## Índice"
   ]
  },
  {
   "cell_type": "markdown",
   "metadata": {},
   "source": [
    "- [Modelos Utilizados](#modelos-utilizados)\n",
    "- [Importando Pacotes e Bibliotecas](#importando-os-pacotes-e-bibliotecas)\n",
    "- [Importando os Datasets](#importando-os-datasets)\n"
   ]
  },
  {
   "cell_type": "markdown",
   "metadata": {},
   "source": [
    "## Importando os pacotes e bibliotecas"
   ]
  },
  {
   "cell_type": "code",
   "execution_count": 35,
   "metadata": {},
   "outputs": [],
   "source": [
    "# biblioteca para realizar o corte teste | treino\n",
    "from sklearn.model_selection import train_test_split\n",
    "\n",
    "# bibliotecas para a regressao\n",
    "from sklearn.preprocessing import PolynomialFeatures\n",
    "from sklearn.linear_model import LinearRegression\n",
    "\n",
    "# bibliotecas para verificacao de erros\n",
    "# e metricas de calculo da acuracia\n",
    "from sklearn.metrics import mean_squared_error\n",
    "\n",
    "## Impressao de Graficos\n",
    "from matplotlib import pyplot as plt\n",
    "import seaborn as sns\n",
    "\n",
    "## Bibliotecas Base\n",
    "import pandas as pd\n",
    "import numpy as np"
   ]
  },
  {
   "cell_type": "markdown",
   "metadata": {},
   "source": [
    "## Importando o dataset"
   ]
  },
  {
   "cell_type": "code",
   "execution_count": 36,
   "metadata": {},
   "outputs": [],
   "source": [
    "df_residencial = pd.read_pickle(\"./databases/processed/classes-consumoComercialPorUF.pkl\")"
   ]
  },
  {
   "cell_type": "code",
   "execution_count": 37,
   "metadata": {},
   "outputs": [
    {
     "data": {
      "text/html": [
       "<div>\n",
       "<style scoped>\n",
       "    .dataframe tbody tr th:only-of-type {\n",
       "        vertical-align: middle;\n",
       "    }\n",
       "\n",
       "    .dataframe tbody tr th {\n",
       "        vertical-align: top;\n",
       "    }\n",
       "\n",
       "    .dataframe thead th {\n",
       "        text-align: right;\n",
       "    }\n",
       "</style>\n",
       "<table border=\"1\" class=\"dataframe\">\n",
       "  <thead>\n",
       "    <tr style=\"text-align: right;\">\n",
       "      <th></th>\n",
       "      <th>Empresa de Pesquisa Energética - EPE</th>\n",
       "      <th>Rondônia</th>\n",
       "      <th>Acre</th>\n",
       "      <th>Amazonas</th>\n",
       "      <th>Roraima</th>\n",
       "      <th>Pará</th>\n",
       "      <th>Amapá</th>\n",
       "      <th>Tocantins</th>\n",
       "      <th>Maranhão</th>\n",
       "      <th>Piauí</th>\n",
       "      <th>Ceará</th>\n",
       "      <th>...</th>\n",
       "      <th>Espírito Santo</th>\n",
       "      <th>Rio de Janeiro</th>\n",
       "      <th>São Paulo</th>\n",
       "      <th>Paraná</th>\n",
       "      <th>Santa Catarina</th>\n",
       "      <th>Rio Grande do Sul</th>\n",
       "      <th>Mato Grosso do Sul</th>\n",
       "      <th>Mato Grosso</th>\n",
       "      <th>Goiás</th>\n",
       "      <th>Distrito Federal</th>\n",
       "    </tr>\n",
       "    <tr>\n",
       "      <th>ano</th>\n",
       "      <th>mes</th>\n",
       "      <th></th>\n",
       "      <th></th>\n",
       "      <th></th>\n",
       "      <th></th>\n",
       "      <th></th>\n",
       "      <th></th>\n",
       "      <th></th>\n",
       "      <th></th>\n",
       "      <th></th>\n",
       "      <th></th>\n",
       "      <th></th>\n",
       "      <th></th>\n",
       "      <th></th>\n",
       "      <th></th>\n",
       "      <th></th>\n",
       "      <th></th>\n",
       "      <th></th>\n",
       "      <th></th>\n",
       "      <th></th>\n",
       "      <th></th>\n",
       "      <th></th>\n",
       "    </tr>\n",
       "  </thead>\n",
       "  <tbody>\n",
       "    <tr>\n",
       "      <th rowspan=\"10\" valign=\"top\">2004</th>\n",
       "      <th>JAN</th>\n",
       "      <td>25870</td>\n",
       "      <td>7895</td>\n",
       "      <td>49832</td>\n",
       "      <td>6141</td>\n",
       "      <td>78075</td>\n",
       "      <td>12164</td>\n",
       "      <td>13832</td>\n",
       "      <td>40478</td>\n",
       "      <td>25398</td>\n",
       "      <td>95718</td>\n",
       "      <td>...</td>\n",
       "      <td>84820</td>\n",
       "      <td>567235</td>\n",
       "      <td>1464892</td>\n",
       "      <td>257033</td>\n",
       "      <td>170067</td>\n",
       "      <td>276902</td>\n",
       "      <td>51890</td>\n",
       "      <td>64699</td>\n",
       "      <td>97266</td>\n",
       "      <td>93427</td>\n",
       "    </tr>\n",
       "    <tr>\n",
       "      <th>FEV</th>\n",
       "      <td>23367</td>\n",
       "      <td>7329</td>\n",
       "      <td>50457</td>\n",
       "      <td>5822</td>\n",
       "      <td>72467</td>\n",
       "      <td>3894</td>\n",
       "      <td>12160</td>\n",
       "      <td>37893</td>\n",
       "      <td>20769</td>\n",
       "      <td>86036</td>\n",
       "      <td>...</td>\n",
       "      <td>83917</td>\n",
       "      <td>594478</td>\n",
       "      <td>1421228</td>\n",
       "      <td>269481</td>\n",
       "      <td>178963</td>\n",
       "      <td>285451</td>\n",
       "      <td>52518</td>\n",
       "      <td>65905</td>\n",
       "      <td>90106</td>\n",
       "      <td>81618</td>\n",
       "    </tr>\n",
       "    <tr>\n",
       "      <th>MAR</th>\n",
       "      <td>24153</td>\n",
       "      <td>7420</td>\n",
       "      <td>47374</td>\n",
       "      <td>5494</td>\n",
       "      <td>75857</td>\n",
       "      <td>8639</td>\n",
       "      <td>13819</td>\n",
       "      <td>40878</td>\n",
       "      <td>20862</td>\n",
       "      <td>90007</td>\n",
       "      <td>...</td>\n",
       "      <td>86051</td>\n",
       "      <td>585939</td>\n",
       "      <td>1416476</td>\n",
       "      <td>268151</td>\n",
       "      <td>186488</td>\n",
       "      <td>283818</td>\n",
       "      <td>51766</td>\n",
       "      <td>74538</td>\n",
       "      <td>96474</td>\n",
       "      <td>84322</td>\n",
       "    </tr>\n",
       "    <tr>\n",
       "      <th>ABR</th>\n",
       "      <td>24113</td>\n",
       "      <td>7345</td>\n",
       "      <td>49875</td>\n",
       "      <td>6035</td>\n",
       "      <td>78779</td>\n",
       "      <td>8461</td>\n",
       "      <td>14883</td>\n",
       "      <td>40503</td>\n",
       "      <td>24450</td>\n",
       "      <td>97130</td>\n",
       "      <td>...</td>\n",
       "      <td>83633</td>\n",
       "      <td>600339</td>\n",
       "      <td>1579356</td>\n",
       "      <td>275652</td>\n",
       "      <td>170145</td>\n",
       "      <td>297774</td>\n",
       "      <td>55175</td>\n",
       "      <td>77146</td>\n",
       "      <td>102078</td>\n",
       "      <td>94761</td>\n",
       "    </tr>\n",
       "    <tr>\n",
       "      <th>MAI</th>\n",
       "      <td>25789</td>\n",
       "      <td>7142</td>\n",
       "      <td>50280</td>\n",
       "      <td>5548</td>\n",
       "      <td>79714</td>\n",
       "      <td>7704</td>\n",
       "      <td>15465</td>\n",
       "      <td>42202</td>\n",
       "      <td>22877</td>\n",
       "      <td>90758</td>\n",
       "      <td>...</td>\n",
       "      <td>82244</td>\n",
       "      <td>564569</td>\n",
       "      <td>1386690</td>\n",
       "      <td>267628</td>\n",
       "      <td>161961</td>\n",
       "      <td>266991</td>\n",
       "      <td>49652</td>\n",
       "      <td>68100</td>\n",
       "      <td>95321</td>\n",
       "      <td>90165</td>\n",
       "    </tr>\n",
       "    <tr>\n",
       "      <th>JUN</th>\n",
       "      <td>24112</td>\n",
       "      <td>6955</td>\n",
       "      <td>50734</td>\n",
       "      <td>5472</td>\n",
       "      <td>82470</td>\n",
       "      <td>8309</td>\n",
       "      <td>16111</td>\n",
       "      <td>42065</td>\n",
       "      <td>24519</td>\n",
       "      <td>93769</td>\n",
       "      <td>...</td>\n",
       "      <td>75631</td>\n",
       "      <td>506022</td>\n",
       "      <td>1280007</td>\n",
       "      <td>239079</td>\n",
       "      <td>142886</td>\n",
       "      <td>245687</td>\n",
       "      <td>44157</td>\n",
       "      <td>61587</td>\n",
       "      <td>91441</td>\n",
       "      <td>87778</td>\n",
       "    </tr>\n",
       "    <tr>\n",
       "      <th>JUL</th>\n",
       "      <td>24312</td>\n",
       "      <td>7205</td>\n",
       "      <td>53678</td>\n",
       "      <td>5876</td>\n",
       "      <td>79919</td>\n",
       "      <td>8733</td>\n",
       "      <td>14775</td>\n",
       "      <td>41961</td>\n",
       "      <td>22937</td>\n",
       "      <td>87315</td>\n",
       "      <td>...</td>\n",
       "      <td>75145</td>\n",
       "      <td>524985</td>\n",
       "      <td>1348602</td>\n",
       "      <td>238401</td>\n",
       "      <td>146430</td>\n",
       "      <td>251824</td>\n",
       "      <td>42928</td>\n",
       "      <td>66190</td>\n",
       "      <td>86788</td>\n",
       "      <td>87198</td>\n",
       "    </tr>\n",
       "    <tr>\n",
       "      <th>AGO</th>\n",
       "      <td>25604</td>\n",
       "      <td>7580</td>\n",
       "      <td>52589</td>\n",
       "      <td>5820</td>\n",
       "      <td>83589</td>\n",
       "      <td>7858</td>\n",
       "      <td>15815</td>\n",
       "      <td>43550</td>\n",
       "      <td>22760</td>\n",
       "      <td>92398</td>\n",
       "      <td>...</td>\n",
       "      <td>75329</td>\n",
       "      <td>503307</td>\n",
       "      <td>1324733</td>\n",
       "      <td>249298</td>\n",
       "      <td>147906</td>\n",
       "      <td>248318</td>\n",
       "      <td>49557</td>\n",
       "      <td>62202</td>\n",
       "      <td>89515</td>\n",
       "      <td>84814</td>\n",
       "    </tr>\n",
       "    <tr>\n",
       "      <th>SET</th>\n",
       "      <td>25980</td>\n",
       "      <td>8309</td>\n",
       "      <td>55148</td>\n",
       "      <td>5652</td>\n",
       "      <td>83100</td>\n",
       "      <td>8850</td>\n",
       "      <td>17041</td>\n",
       "      <td>44972</td>\n",
       "      <td>25997</td>\n",
       "      <td>97622</td>\n",
       "      <td>...</td>\n",
       "      <td>78583</td>\n",
       "      <td>537621</td>\n",
       "      <td>1430716</td>\n",
       "      <td>264561</td>\n",
       "      <td>148465</td>\n",
       "      <td>251759</td>\n",
       "      <td>51954</td>\n",
       "      <td>69190</td>\n",
       "      <td>97105</td>\n",
       "      <td>98068</td>\n",
       "    </tr>\n",
       "    <tr>\n",
       "      <th>OUT</th>\n",
       "      <td>27250</td>\n",
       "      <td>7910</td>\n",
       "      <td>55374</td>\n",
       "      <td>5980</td>\n",
       "      <td>82032</td>\n",
       "      <td>9621</td>\n",
       "      <td>16450</td>\n",
       "      <td>43339</td>\n",
       "      <td>25217</td>\n",
       "      <td>93272</td>\n",
       "      <td>...</td>\n",
       "      <td>81687</td>\n",
       "      <td>555512</td>\n",
       "      <td>1455419</td>\n",
       "      <td>255562</td>\n",
       "      <td>153485</td>\n",
       "      <td>248016</td>\n",
       "      <td>53788</td>\n",
       "      <td>72326</td>\n",
       "      <td>101968</td>\n",
       "      <td>97556</td>\n",
       "    </tr>\n",
       "  </tbody>\n",
       "</table>\n",
       "<p>10 rows × 27 columns</p>\n",
       "</div>"
      ],
      "text/plain": [
       "Empresa de Pesquisa Energética - EPE  Rondônia  Acre  Amazonas  Roraima  \\\n",
       "ano  mes                                                                  \n",
       "2004 JAN                                 25870  7895     49832     6141   \n",
       "     FEV                                 23367  7329     50457     5822   \n",
       "     MAR                                 24153  7420     47374     5494   \n",
       "     ABR                                 24113  7345     49875     6035   \n",
       "     MAI                                 25789  7142     50280     5548   \n",
       "     JUN                                 24112  6955     50734     5472   \n",
       "     JUL                                 24312  7205     53678     5876   \n",
       "     AGO                                 25604  7580     52589     5820   \n",
       "     SET                                 25980  8309     55148     5652   \n",
       "     OUT                                 27250  7910     55374     5980   \n",
       "\n",
       "Empresa de Pesquisa Energética - EPE   Pará  Amapá  Tocantins  Maranhão  \\\n",
       "ano  mes                                                                  \n",
       "2004 JAN                              78075  12164      13832     40478   \n",
       "     FEV                              72467   3894      12160     37893   \n",
       "     MAR                              75857   8639      13819     40878   \n",
       "     ABR                              78779   8461      14883     40503   \n",
       "     MAI                              79714   7704      15465     42202   \n",
       "     JUN                              82470   8309      16111     42065   \n",
       "     JUL                              79919   8733      14775     41961   \n",
       "     AGO                              83589   7858      15815     43550   \n",
       "     SET                              83100   8850      17041     44972   \n",
       "     OUT                              82032   9621      16450     43339   \n",
       "\n",
       "Empresa de Pesquisa Energética - EPE  Piauí  Ceará  ...  Espírito Santo  \\\n",
       "ano  mes                                            ...                   \n",
       "2004 JAN                              25398  95718  ...           84820   \n",
       "     FEV                              20769  86036  ...           83917   \n",
       "     MAR                              20862  90007  ...           86051   \n",
       "     ABR                              24450  97130  ...           83633   \n",
       "     MAI                              22877  90758  ...           82244   \n",
       "     JUN                              24519  93769  ...           75631   \n",
       "     JUL                              22937  87315  ...           75145   \n",
       "     AGO                              22760  92398  ...           75329   \n",
       "     SET                              25997  97622  ...           78583   \n",
       "     OUT                              25217  93272  ...           81687   \n",
       "\n",
       "Empresa de Pesquisa Energética - EPE  Rio de Janeiro  São Paulo  Paraná  \\\n",
       "ano  mes                                                                  \n",
       "2004 JAN                                      567235    1464892  257033   \n",
       "     FEV                                      594478    1421228  269481   \n",
       "     MAR                                      585939    1416476  268151   \n",
       "     ABR                                      600339    1579356  275652   \n",
       "     MAI                                      564569    1386690  267628   \n",
       "     JUN                                      506022    1280007  239079   \n",
       "     JUL                                      524985    1348602  238401   \n",
       "     AGO                                      503307    1324733  249298   \n",
       "     SET                                      537621    1430716  264561   \n",
       "     OUT                                      555512    1455419  255562   \n",
       "\n",
       "Empresa de Pesquisa Energética - EPE  Santa Catarina  Rio Grande do Sul  \\\n",
       "ano  mes                                                                  \n",
       "2004 JAN                                      170067             276902   \n",
       "     FEV                                      178963             285451   \n",
       "     MAR                                      186488             283818   \n",
       "     ABR                                      170145             297774   \n",
       "     MAI                                      161961             266991   \n",
       "     JUN                                      142886             245687   \n",
       "     JUL                                      146430             251824   \n",
       "     AGO                                      147906             248318   \n",
       "     SET                                      148465             251759   \n",
       "     OUT                                      153485             248016   \n",
       "\n",
       "Empresa de Pesquisa Energética - EPE  Mato Grosso do Sul  Mato Grosso   Goiás  \\\n",
       "ano  mes                                                                        \n",
       "2004 JAN                                           51890        64699   97266   \n",
       "     FEV                                           52518        65905   90106   \n",
       "     MAR                                           51766        74538   96474   \n",
       "     ABR                                           55175        77146  102078   \n",
       "     MAI                                           49652        68100   95321   \n",
       "     JUN                                           44157        61587   91441   \n",
       "     JUL                                           42928        66190   86788   \n",
       "     AGO                                           49557        62202   89515   \n",
       "     SET                                           51954        69190   97105   \n",
       "     OUT                                           53788        72326  101968   \n",
       "\n",
       "Empresa de Pesquisa Energética - EPE  Distrito Federal  \n",
       "ano  mes                                                \n",
       "2004 JAN                                         93427  \n",
       "     FEV                                         81618  \n",
       "     MAR                                         84322  \n",
       "     ABR                                         94761  \n",
       "     MAI                                         90165  \n",
       "     JUN                                         87778  \n",
       "     JUL                                         87198  \n",
       "     AGO                                         84814  \n",
       "     SET                                         98068  \n",
       "     OUT                                         97556  \n",
       "\n",
       "[10 rows x 27 columns]"
      ]
     },
     "execution_count": 37,
     "metadata": {},
     "output_type": "execute_result"
    }
   ],
   "source": [
    "df_residencial = df_residencial.drop(columns = [\"consumo\"])\n",
    "df_residencial = df_residencial.T\n",
    "df_residencial.head(10)"
   ]
  },
  {
   "cell_type": "markdown",
   "metadata": {},
   "source": [
    "## Divisao dos labels / dados"
   ]
  },
  {
   "cell_type": "markdown",
   "metadata": {},
   "source": [
    "### Dataset da regiao nordeste"
   ]
  },
  {
   "cell_type": "code",
   "execution_count": 38,
   "metadata": {},
   "outputs": [
    {
     "data": {
      "text/html": [
       "<div>\n",
       "<style scoped>\n",
       "    .dataframe tbody tr th:only-of-type {\n",
       "        vertical-align: middle;\n",
       "    }\n",
       "\n",
       "    .dataframe tbody tr th {\n",
       "        vertical-align: top;\n",
       "    }\n",
       "\n",
       "    .dataframe thead th {\n",
       "        text-align: right;\n",
       "    }\n",
       "</style>\n",
       "<table border=\"1\" class=\"dataframe\">\n",
       "  <thead>\n",
       "    <tr style=\"text-align: right;\">\n",
       "      <th>Empresa de Pesquisa Energética - EPE</th>\n",
       "      <th>ano</th>\n",
       "      <th>mes</th>\n",
       "      <th>Piauí</th>\n",
       "      <th>Ceará</th>\n",
       "      <th>Rio Grande do Norte</th>\n",
       "      <th>Paraíba</th>\n",
       "      <th>Pernambuco</th>\n",
       "      <th>Alagoas</th>\n",
       "      <th>Sergipe</th>\n",
       "      <th>Bahia</th>\n",
       "    </tr>\n",
       "  </thead>\n",
       "  <tbody>\n",
       "    <tr>\n",
       "      <th>0</th>\n",
       "      <td>2004</td>\n",
       "      <td>JAN</td>\n",
       "      <td>25398</td>\n",
       "      <td>95718</td>\n",
       "      <td>41973</td>\n",
       "      <td>35917</td>\n",
       "      <td>119008</td>\n",
       "      <td>31461</td>\n",
       "      <td>27768</td>\n",
       "      <td>171570</td>\n",
       "    </tr>\n",
       "    <tr>\n",
       "      <th>1</th>\n",
       "      <td>2004</td>\n",
       "      <td>FEV</td>\n",
       "      <td>20769</td>\n",
       "      <td>86036</td>\n",
       "      <td>37909</td>\n",
       "      <td>32453</td>\n",
       "      <td>115908</td>\n",
       "      <td>30119</td>\n",
       "      <td>22535</td>\n",
       "      <td>167151</td>\n",
       "    </tr>\n",
       "    <tr>\n",
       "      <th>2</th>\n",
       "      <td>2004</td>\n",
       "      <td>MAR</td>\n",
       "      <td>20862</td>\n",
       "      <td>90007</td>\n",
       "      <td>41133</td>\n",
       "      <td>34378</td>\n",
       "      <td>123234</td>\n",
       "      <td>30572</td>\n",
       "      <td>25006</td>\n",
       "      <td>166958</td>\n",
       "    </tr>\n",
       "    <tr>\n",
       "      <th>3</th>\n",
       "      <td>2004</td>\n",
       "      <td>ABR</td>\n",
       "      <td>24450</td>\n",
       "      <td>97130</td>\n",
       "      <td>43495</td>\n",
       "      <td>35924</td>\n",
       "      <td>129722</td>\n",
       "      <td>32021</td>\n",
       "      <td>26187</td>\n",
       "      <td>174506</td>\n",
       "    </tr>\n",
       "    <tr>\n",
       "      <th>4</th>\n",
       "      <td>2004</td>\n",
       "      <td>MAI</td>\n",
       "      <td>22877</td>\n",
       "      <td>90758</td>\n",
       "      <td>41067</td>\n",
       "      <td>33864</td>\n",
       "      <td>124960</td>\n",
       "      <td>30512</td>\n",
       "      <td>25186</td>\n",
       "      <td>158750</td>\n",
       "    </tr>\n",
       "    <tr>\n",
       "      <th>5</th>\n",
       "      <td>2004</td>\n",
       "      <td>JUN</td>\n",
       "      <td>24519</td>\n",
       "      <td>93769</td>\n",
       "      <td>41715</td>\n",
       "      <td>33950</td>\n",
       "      <td>122253</td>\n",
       "      <td>31649</td>\n",
       "      <td>24530</td>\n",
       "      <td>159294</td>\n",
       "    </tr>\n",
       "    <tr>\n",
       "      <th>6</th>\n",
       "      <td>2004</td>\n",
       "      <td>JUL</td>\n",
       "      <td>22937</td>\n",
       "      <td>87315</td>\n",
       "      <td>39380</td>\n",
       "      <td>32155</td>\n",
       "      <td>115604</td>\n",
       "      <td>27614</td>\n",
       "      <td>22744</td>\n",
       "      <td>149743</td>\n",
       "    </tr>\n",
       "    <tr>\n",
       "      <th>7</th>\n",
       "      <td>2004</td>\n",
       "      <td>AGO</td>\n",
       "      <td>22760</td>\n",
       "      <td>92398</td>\n",
       "      <td>40479</td>\n",
       "      <td>31641</td>\n",
       "      <td>117648</td>\n",
       "      <td>27011</td>\n",
       "      <td>22054</td>\n",
       "      <td>146609</td>\n",
       "    </tr>\n",
       "    <tr>\n",
       "      <th>8</th>\n",
       "      <td>2004</td>\n",
       "      <td>SET</td>\n",
       "      <td>25997</td>\n",
       "      <td>97622</td>\n",
       "      <td>41184</td>\n",
       "      <td>35194</td>\n",
       "      <td>125223</td>\n",
       "      <td>29066</td>\n",
       "      <td>23161</td>\n",
       "      <td>154636</td>\n",
       "    </tr>\n",
       "    <tr>\n",
       "      <th>9</th>\n",
       "      <td>2004</td>\n",
       "      <td>OUT</td>\n",
       "      <td>25217</td>\n",
       "      <td>93272</td>\n",
       "      <td>42784</td>\n",
       "      <td>34712</td>\n",
       "      <td>129659</td>\n",
       "      <td>29911</td>\n",
       "      <td>23534</td>\n",
       "      <td>163207</td>\n",
       "    </tr>\n",
       "  </tbody>\n",
       "</table>\n",
       "</div>"
      ],
      "text/plain": [
       "Empresa de Pesquisa Energética - EPE   ano  mes  Piauí  Ceará  \\\n",
       "0                                     2004  JAN  25398  95718   \n",
       "1                                     2004  FEV  20769  86036   \n",
       "2                                     2004  MAR  20862  90007   \n",
       "3                                     2004  ABR  24450  97130   \n",
       "4                                     2004  MAI  22877  90758   \n",
       "5                                     2004  JUN  24519  93769   \n",
       "6                                     2004  JUL  22937  87315   \n",
       "7                                     2004  AGO  22760  92398   \n",
       "8                                     2004  SET  25997  97622   \n",
       "9                                     2004  OUT  25217  93272   \n",
       "\n",
       "Empresa de Pesquisa Energética - EPE  Rio Grande do Norte  Paraíba  \\\n",
       "0                                                   41973    35917   \n",
       "1                                                   37909    32453   \n",
       "2                                                   41133    34378   \n",
       "3                                                   43495    35924   \n",
       "4                                                   41067    33864   \n",
       "5                                                   41715    33950   \n",
       "6                                                   39380    32155   \n",
       "7                                                   40479    31641   \n",
       "8                                                   41184    35194   \n",
       "9                                                   42784    34712   \n",
       "\n",
       "Empresa de Pesquisa Energética - EPE  Pernambuco  Alagoas  Sergipe   Bahia  \n",
       "0                                         119008    31461    27768  171570  \n",
       "1                                         115908    30119    22535  167151  \n",
       "2                                         123234    30572    25006  166958  \n",
       "3                                         129722    32021    26187  174506  \n",
       "4                                         124960    30512    25186  158750  \n",
       "5                                         122253    31649    24530  159294  \n",
       "6                                         115604    27614    22744  149743  \n",
       "7                                         117648    27011    22054  146609  \n",
       "8                                         125223    29066    23161  154636  \n",
       "9                                         129659    29911    23534  163207  "
      ]
     },
     "execution_count": 38,
     "metadata": {},
     "output_type": "execute_result"
    }
   ],
   "source": [
    "df_nordeste = df_residencial.iloc[:, 8:16]\n",
    "df_nordeste = df_nordeste.reset_index()\n",
    "df_nordeste.head(10)"
   ]
  },
  {
   "cell_type": "code",
   "execution_count": 39,
   "metadata": {},
   "outputs": [],
   "source": [
    "X_nordeste_2004 = df_nordeste[df_nordeste[\"ano\"] == \"2004\"]\n",
    "y_nordeste_2004 = (X_nordeste_2004[X_nordeste_2004[\"mes\"] == \"DEZ\"].drop(columns = [\"ano\", \"mes\"])).T\n",
    "X_nordeste_2004 = X_nordeste_2004[X_nordeste_2004[\"mes\"] != \"DEZ\"].T"
   ]
  },
  {
   "cell_type": "markdown",
   "metadata": {},
   "source": [
    "### Dataset contendo somente a Bahia"
   ]
  },
  {
   "cell_type": "code",
   "execution_count": 40,
   "metadata": {},
   "outputs": [
    {
     "data": {
      "text/html": [
       "<div>\n",
       "<style scoped>\n",
       "    .dataframe tbody tr th:only-of-type {\n",
       "        vertical-align: middle;\n",
       "    }\n",
       "\n",
       "    .dataframe tbody tr th {\n",
       "        vertical-align: top;\n",
       "    }\n",
       "\n",
       "    .dataframe thead th {\n",
       "        text-align: right;\n",
       "    }\n",
       "</style>\n",
       "<table border=\"1\" class=\"dataframe\">\n",
       "  <thead>\n",
       "    <tr style=\"text-align: right;\">\n",
       "      <th></th>\n",
       "      <th>ano</th>\n",
       "      <th>mes</th>\n",
       "      <th>Bahia</th>\n",
       "    </tr>\n",
       "  </thead>\n",
       "  <tbody>\n",
       "    <tr>\n",
       "      <th>0</th>\n",
       "      <td>2004</td>\n",
       "      <td>JAN</td>\n",
       "      <td>171570</td>\n",
       "    </tr>\n",
       "    <tr>\n",
       "      <th>1</th>\n",
       "      <td>2004</td>\n",
       "      <td>FEV</td>\n",
       "      <td>167151</td>\n",
       "    </tr>\n",
       "    <tr>\n",
       "      <th>2</th>\n",
       "      <td>2004</td>\n",
       "      <td>MAR</td>\n",
       "      <td>166958</td>\n",
       "    </tr>\n",
       "    <tr>\n",
       "      <th>3</th>\n",
       "      <td>2004</td>\n",
       "      <td>ABR</td>\n",
       "      <td>174506</td>\n",
       "    </tr>\n",
       "    <tr>\n",
       "      <th>4</th>\n",
       "      <td>2004</td>\n",
       "      <td>MAI</td>\n",
       "      <td>158750</td>\n",
       "    </tr>\n",
       "    <tr>\n",
       "      <th>5</th>\n",
       "      <td>2004</td>\n",
       "      <td>JUN</td>\n",
       "      <td>159294</td>\n",
       "    </tr>\n",
       "    <tr>\n",
       "      <th>6</th>\n",
       "      <td>2004</td>\n",
       "      <td>JUL</td>\n",
       "      <td>149743</td>\n",
       "    </tr>\n",
       "    <tr>\n",
       "      <th>7</th>\n",
       "      <td>2004</td>\n",
       "      <td>AGO</td>\n",
       "      <td>146609</td>\n",
       "    </tr>\n",
       "    <tr>\n",
       "      <th>8</th>\n",
       "      <td>2004</td>\n",
       "      <td>SET</td>\n",
       "      <td>154636</td>\n",
       "    </tr>\n",
       "    <tr>\n",
       "      <th>9</th>\n",
       "      <td>2004</td>\n",
       "      <td>OUT</td>\n",
       "      <td>163207</td>\n",
       "    </tr>\n",
       "  </tbody>\n",
       "</table>\n",
       "</div>"
      ],
      "text/plain": [
       "    ano  mes   Bahia\n",
       "0  2004  JAN  171570\n",
       "1  2004  FEV  167151\n",
       "2  2004  MAR  166958\n",
       "3  2004  ABR  174506\n",
       "4  2004  MAI  158750\n",
       "5  2004  JUN  159294\n",
       "6  2004  JUL  149743\n",
       "7  2004  AGO  146609\n",
       "8  2004  SET  154636\n",
       "9  2004  OUT  163207"
      ]
     },
     "execution_count": 40,
     "metadata": {},
     "output_type": "execute_result"
    }
   ],
   "source": [
    "df_bahia = df_residencial[\"Bahia\"]\n",
    "df_bahia = df_bahia.reset_index()\n",
    "df_bahia.head(10)"
   ]
  },
  {
   "cell_type": "code",
   "execution_count": 41,
   "metadata": {},
   "outputs": [],
   "source": [
    "X_bahia_2004 = df_bahia[df_bahia[\"ano\"] == \"2004\"]\n",
    "y_bahia_2004 = (X_bahia_2004[X_bahia_2004[\"mes\"] == \"DEZ\"].drop(columns = [\"ano\", \"mes\"])).T\n",
    "X_bahia_2004 = X_bahia_2004[X_bahia_2004[\"mes\"] != \"DEZ\"].T"
   ]
  },
  {
   "cell_type": "markdown",
   "metadata": {},
   "source": [
    "## Hiper parametros"
   ]
  },
  {
   "cell_type": "code",
   "execution_count": 42,
   "metadata": {},
   "outputs": [],
   "source": [
    "semente_randomica = 42\n",
    "divisao_treino_teste = 0.3\n",
    "grau = 2\n",
    "polynomial_features = PolynomialFeatures(degree = grau, include_bias = False)"
   ]
  },
  {
   "cell_type": "markdown",
   "metadata": {},
   "source": [
    "## Criando o modelo"
   ]
  },
  {
   "cell_type": "markdown",
   "metadata": {},
   "source": [
    "### Dataset da regiao nordeste"
   ]
  },
  {
   "cell_type": "code",
   "execution_count": 43,
   "metadata": {},
   "outputs": [],
   "source": [
    "polynomial_features_nordeste = polynomial_features.fit_transform(X_nordeste_2004.iloc[2:, :])\n",
    "regressao_polinomial_nordeste = LinearRegression(n_jobs = -1)"
   ]
  },
  {
   "cell_type": "markdown",
   "metadata": {},
   "source": [
    "#### Treinando e testando o modelo"
   ]
  },
  {
   "cell_type": "code",
   "execution_count": 44,
   "metadata": {},
   "outputs": [],
   "source": [
    "regressao_polinomial_nordeste.fit(polynomial_features_nordeste, y_nordeste_2004)\n",
    "y_predict = regressao_polinomial_nordeste.predict(polynomial_features_nordeste)"
   ]
  },
  {
   "cell_type": "markdown",
   "metadata": {},
   "source": [
    "#### Avaliando o modelo"
   ]
  },
  {
   "cell_type": "code",
   "execution_count": 45,
   "metadata": {},
   "outputs": [
    {
     "name": "stdout",
     "output_type": "stream",
     "text": [
      "Dados originais:  [[ 24392]\n",
      " [101414]\n",
      " [ 48151]\n",
      " [ 37017]\n",
      " [139701]\n",
      " [ 33533]\n",
      " [ 26428]\n",
      " [177368]]\n",
      "Dados previstos: [[ 24392.]\n",
      " [101414.]\n",
      " [ 48151.]\n",
      " [ 37017.]\n",
      " [139701.]\n",
      " [ 33533.]\n",
      " [ 26428.]\n",
      " [177368.]]\n"
     ]
    }
   ],
   "source": [
    "print(\"Dados originais: \", y_nordeste_2004.values)\n",
    "print(\"Dados previstos:\", y_predict)"
   ]
  },
  {
   "cell_type": "markdown",
   "metadata": {},
   "source": [
    "#### Impressão dos resultados"
   ]
  },
  {
   "cell_type": "code",
   "execution_count": 46,
   "metadata": {},
   "outputs": [
    {
     "data": {
      "image/png": "[encoded data removed]",
      "text/plain": [
       "<Figure size 800x600 with 1 Axes>"
      ]
     },
     "metadata": {},
     "output_type": "display_data"
    }
   ],
   "source": [
    "figura = plt.figure(figsize = (8, 6))\n",
    "\n",
    "plt.title(\"Erros Residuais vs. Valor Estimado\")\n",
    "plt.scatter(X_nordeste_2004.iloc[2:, 1], y_nordeste_2004)\n",
    "plt.plot(X_nordeste_2004.iloc[2:, 1], y_predict, c = \"red\")\n",
    "\n",
    "plt.show()"
   ]
  },
  {
   "cell_type": "markdown",
   "metadata": {},
   "source": [
    "#### Erros e acuracia do modelo"
   ]
  },
  {
   "cell_type": "code",
   "execution_count": 47,
   "metadata": {},
   "outputs": [
    {
     "data": {
      "text/plain": [
       "1.770970923125521e-10"
      ]
     },
     "execution_count": 47,
     "metadata": {},
     "output_type": "execute_result"
    }
   ],
   "source": [
    "erro_ao_quadrado = np.sqrt(mean_squared_error(y_nordeste_2004, y_predict))\n",
    "erro_ao_quadrado"
   ]
  },
  {
   "cell_type": "markdown",
   "metadata": {},
   "source": [
    "##### Os coeficientes"
   ]
  },
  {
   "cell_type": "code",
   "execution_count": 48,
   "metadata": {},
   "outputs": [
    {
     "data": {
      "text/plain": [
       "array([[ 3.33156144e-09,  3.81102182e-09,  4.36639028e-09,\n",
       "         4.04900133e-09,  3.71032438e-09,  3.67857426e-09,\n",
       "         3.72410383e-09,  4.02417262e-09,  3.80166733e-09,\n",
       "         4.12462303e-09,  3.39352274e-09, -6.47625821e-06,\n",
       "        -3.80356891e-06,  1.08331998e-05, -3.68770156e-06,\n",
       "        -9.55171034e-06, -4.12522603e-06,  4.13198463e-06,\n",
       "         8.74729175e-06, -6.77131266e-06, -4.19925146e-07,\n",
       "        -9.42902721e-06, -5.93551297e-06,  7.43162954e-06,\n",
       "        -4.64690168e-06, -1.00505136e-05, -4.31556347e-06,\n",
       "         2.94278031e-06,  6.38453714e-06, -7.04712392e-06,\n",
       "        -2.50700156e-06, -6.18287566e-06,  2.18448016e-05,\n",
       "         1.05007342e-05,  3.62346014e-06,  1.05763642e-05,\n",
       "         1.73398246e-05,  2.13752873e-05,  8.08615685e-06,\n",
       "         1.31168004e-05,  8.98510474e-06, -3.51022470e-06,\n",
       "        -9.79064370e-06, -3.43629824e-06,  4.61244038e-06,\n",
       "         8.88685128e-06, -7.14312188e-06, -1.15550438e-06,\n",
       "        -5.96750016e-06, -1.56178942e-05, -9.30753566e-06,\n",
       "        -1.34442461e-06,  2.68109967e-06, -1.27519593e-05,\n",
       "        -7.36925427e-06, -1.25415610e-05, -3.87159513e-06,\n",
       "         3.94347265e-06,  8.09369711e-06, -7.97420857e-06,\n",
       "        -1.62119459e-06, -5.58780289e-06,  1.06585736e-05,\n",
       "         1.44998010e-05, -1.22542674e-07,  5.85992129e-06,\n",
       "         2.96764465e-06,  1.82234288e-05,  3.14095126e-06,\n",
       "         9.80205476e-06,  9.00466820e-06, -1.31454637e-05,\n",
       "        -6.75750239e-06, -9.29681599e-06, -5.45557989e-07,\n",
       "        -1.94247378e-06, -1.15895656e-05]])"
      ]
     },
     "execution_count": 48,
     "metadata": {},
     "output_type": "execute_result"
    }
   ],
   "source": [
    "regressao_polinomial_nordeste.coef_"
   ]
  },
  {
   "cell_type": "markdown",
   "metadata": {},
   "source": [
    "##### O Intercepto"
   ]
  },
  {
   "cell_type": "code",
   "execution_count": 49,
   "metadata": {},
   "outputs": [
    {
     "data": {
      "text/plain": [
       "array([32640.37001805])"
      ]
     },
     "execution_count": 49,
     "metadata": {},
     "output_type": "execute_result"
    }
   ],
   "source": [
    "regressao_polinomial_nordeste.intercept_"
   ]
  },
  {
   "cell_type": "markdown",
   "metadata": {},
   "source": [
    "### Dataset contendo somente a Bahia"
   ]
  },
  {
   "cell_type": "code",
   "execution_count": 50,
   "metadata": {},
   "outputs": [],
   "source": [
    "polynomial_features_bahia = polynomial_features.fit_transform(X_bahia_2004.iloc[2:, :])\n",
    "regressao_polinomial_bahia = LinearRegression(n_jobs = -1)"
   ]
  },
  {
   "cell_type": "markdown",
   "metadata": {},
   "source": [
    "#### Treinando e testando o modelo"
   ]
  },
  {
   "cell_type": "code",
   "execution_count": 51,
   "metadata": {},
   "outputs": [],
   "source": [
    "regressao_polinomial_bahia.fit(polynomial_features_bahia, y_bahia_2004)\n",
    "y_predict = regressao_polinomial_bahia.predict(polynomial_features_bahia)"
   ]
  },
  {
   "cell_type": "markdown",
   "metadata": {},
   "source": [
    "#### Avaliando o modelo"
   ]
  },
  {
   "cell_type": "code",
   "execution_count": 52,
   "metadata": {},
   "outputs": [
    {
     "name": "stdout",
     "output_type": "stream",
     "text": [
      "Dados originais:  [[177368]]\n",
      "Dados previstos: [[177368.]]\n"
     ]
    }
   ],
   "source": [
    "print(\"Dados originais: \", y_bahia_2004.values)\n",
    "print(\"Dados previstos:\", y_predict)"
   ]
  },
  {
   "cell_type": "markdown",
   "metadata": {},
   "source": [
    "#### Erros e acuracia do modelo"
   ]
  },
  {
   "cell_type": "code",
   "execution_count": 53,
   "metadata": {},
   "outputs": [
    {
     "data": {
      "text/plain": [
       "0.0"
      ]
     },
     "execution_count": 53,
     "metadata": {},
     "output_type": "execute_result"
    }
   ],
   "source": [
    "erro_ao_quadrado = np.sqrt(mean_squared_error(y_bahia_2004, y_predict))\n",
    "erro_ao_quadrado"
   ]
  },
  {
   "cell_type": "markdown",
   "metadata": {},
   "source": [
    "##### Os coeficientes"
   ]
  },
  {
   "cell_type": "code",
   "execution_count": 54,
   "metadata": {},
   "outputs": [
    {
     "data": {
      "text/plain": [
       "array([[0., 0., 0., 0., 0., 0., 0., 0., 0., 0., 0., 0., 0., 0., 0., 0.,\n",
       "        0., 0., 0., 0., 0., 0., 0., 0., 0., 0., 0., 0., 0., 0., 0., 0.,\n",
       "        0., 0., 0., 0., 0., 0., 0., 0., 0., 0., 0., 0., 0., 0., 0., 0.,\n",
       "        0., 0., 0., 0., 0., 0., 0., 0., 0., 0., 0., 0., 0., 0., 0., 0.,\n",
       "        0., 0., 0., 0., 0., 0., 0., 0., 0., 0., 0., 0., 0.]])"
      ]
     },
     "execution_count": 54,
     "metadata": {},
     "output_type": "execute_result"
    }
   ],
   "source": [
    "regressao_polinomial_bahia.coef_"
   ]
  },
  {
   "cell_type": "markdown",
   "metadata": {},
   "source": [
    "##### O Intercepto"
   ]
  },
  {
   "cell_type": "code",
   "execution_count": 55,
   "metadata": {},
   "outputs": [
    {
     "data": {
      "text/plain": [
       "array([177368.])"
      ]
     },
     "execution_count": 55,
     "metadata": {},
     "output_type": "execute_result"
    }
   ],
   "source": [
    "regressao_polinomial_bahia.intercept_"
   ]
  },
  {
   "cell_type": "code",
   "execution_count": null,
   "metadata": {},
   "outputs": [
    {
     "name": "stderr",
     "output_type": "stream",
     "text": [
      "/tmp/ipykernel_42256/3455338508.py:16: SettingWithCopyWarning: \n",
      "A value is trying to be set on a copy of a slice from a DataFrame.\n",
      "Try using .loc[row_indexer,col_indexer] = value instead\n",
      "\n",
      "See the caveats in the documentation: https://pandas.pydata.org/pandas-docs/stable/user_guide/indexing.html#returning-a-view-versus-a-copy\n",
      "  X_bahia[\"ano\"] = X_bahia[\"ano\"].astype(\"uint16\")\n",
      "/tmp/ipykernel_42256/3455338508.py:17: SettingWithCopyWarning: \n",
      "A value is trying to be set on a copy of a slice from a DataFrame.\n",
      "Try using .loc[row_indexer,col_indexer] = value instead\n",
      "\n",
      "See the caveats in the documentation: https://pandas.pydata.org/pandas-docs/stable/user_guide/indexing.html#returning-a-view-versus-a-copy\n",
      "  X_bahia[\"mes\"] = X_bahia[\"mes\"].map(dicionario_meses)\n"
     ]
    },
    {
     "data": {
      "text/html": [
       "<div>\n",
       "<style scoped>\n",
       "    .dataframe tbody tr th:only-of-type {\n",
       "        vertical-align: middle;\n",
       "    }\n",
       "\n",
       "    .dataframe tbody tr th {\n",
       "        vertical-align: top;\n",
       "    }\n",
       "\n",
       "    .dataframe thead th {\n",
       "        text-align: right;\n",
       "    }\n",
       "</style>\n",
       "<table border=\"1\" class=\"dataframe\">\n",
       "  <thead>\n",
       "    <tr style=\"text-align: right;\">\n",
       "      <th></th>\n",
       "      <th>ano</th>\n",
       "      <th>mes</th>\n",
       "    </tr>\n",
       "  </thead>\n",
       "  <tbody>\n",
       "    <tr>\n",
       "      <th>0</th>\n",
       "      <td>2004</td>\n",
       "      <td>1</td>\n",
       "    </tr>\n",
       "    <tr>\n",
       "      <th>1</th>\n",
       "      <td>2004</td>\n",
       "      <td>2</td>\n",
       "    </tr>\n",
       "    <tr>\n",
       "      <th>2</th>\n",
       "      <td>2004</td>\n",
       "      <td>3</td>\n",
       "    </tr>\n",
       "    <tr>\n",
       "      <th>3</th>\n",
       "      <td>2004</td>\n",
       "      <td>4</td>\n",
       "    </tr>\n",
       "    <tr>\n",
       "      <th>4</th>\n",
       "      <td>2004</td>\n",
       "      <td>5</td>\n",
       "    </tr>\n",
       "    <tr>\n",
       "      <th>...</th>\n",
       "      <td>...</td>\n",
       "      <td>...</td>\n",
       "    </tr>\n",
       "    <tr>\n",
       "      <th>235</th>\n",
       "      <td>2023</td>\n",
       "      <td>8</td>\n",
       "    </tr>\n",
       "    <tr>\n",
       "      <th>236</th>\n",
       "      <td>2023</td>\n",
       "      <td>9</td>\n",
       "    </tr>\n",
       "    <tr>\n",
       "      <th>237</th>\n",
       "      <td>2023</td>\n",
       "      <td>10</td>\n",
       "    </tr>\n",
       "    <tr>\n",
       "      <th>238</th>\n",
       "      <td>2023</td>\n",
       "      <td>11</td>\n",
       "    </tr>\n",
       "    <tr>\n",
       "      <th>239</th>\n",
       "      <td>2023</td>\n",
       "      <td>12</td>\n",
       "    </tr>\n",
       "  </tbody>\n",
       "</table>\n",
       "<p>240 rows × 2 columns</p>\n",
       "</div>"
      ],
      "text/plain": [
       "      ano  mes\n",
       "0    2004    1\n",
       "1    2004    2\n",
       "2    2004    3\n",
       "3    2004    4\n",
       "4    2004    5\n",
       "..    ...  ...\n",
       "235  2023    8\n",
       "236  2023    9\n",
       "237  2023   10\n",
       "238  2023   11\n",
       "239  2023   12\n",
       "\n",
       "[240 rows x 2 columns]"
      ]
     },
     "execution_count": 57,
     "metadata": {},
     "output_type": "execute_result"
    }
   ],
   "source": [
    "dicionario_meses = {\n",
    "    \"JAN\": 1,\n",
    "    \"FEV\": 2,\n",
    "    \"MAR\": 3,\n",
    "    \"ABR\": 4,\n",
    "    \"MAI\": 5,\n",
    "    \"JUN\": 6,\n",
    "    \"JUL\": 7,\n",
    "    \"AGO\": 8,\n",
    "    \"SET\": 9,\n",
    "    \"OUT\": 10,\n",
    "    \"NOV\": 11,\n",
    "    \"DEZ\": 12\n",
    "}\n",
    "X_bahia = df_bahia[[\"ano\", \"mes\"]]\n",
    "X_bahia[\"ano\"] = X_bahia[\"ano\"].astype(\"uint16\")\n",
    "X_bahia[\"mes\"] = X_bahia[\"mes\"].map(dicionario_meses)\n",
    "X_bahia"
   ]
  },
  {
   "cell_type": "code",
   "execution_count": 58,
   "metadata": {},
   "outputs": [
    {
     "data": {
      "text/plain": [
       "0      171570\n",
       "1      167151\n",
       "2      166958\n",
       "3      174506\n",
       "4      158750\n",
       "        ...  \n",
       "235    309859\n",
       "236    326892\n",
       "237    329688\n",
       "238    352864\n",
       "239    363878\n",
       "Name: Bahia, Length: 240, dtype: uint32"
      ]
     },
     "execution_count": 58,
     "metadata": {},
     "output_type": "execute_result"
    }
   ],
   "source": [
    "y_bahia = df_bahia[\"Bahia\"]\n",
    "y_bahia"
   ]
  },
  {
   "cell_type": "code",
   "execution_count": 59,
   "metadata": {},
   "outputs": [],
   "source": [
    "polynomial_features_bahia = polynomial_features.fit_transform(X_bahia)\n",
    "regressao_polinomial_bahia = LinearRegression(n_jobs = -1)\n",
    "regressao_polinomial_bahia.fit(polynomial_features_bahia, y_bahia)\n",
    "y_pred = regressao_polinomial_bahia.predict(polynomial_features_bahia)"
   ]
  },
  {
   "cell_type": "code",
   "execution_count": 69,
   "metadata": {},
   "outputs": [
    {
     "data": {
      "image/png": "[encoded data removed]",
      "text/plain": [
       "<Figure size 640x480 with 1 Axes>"
      ]
     },
     "metadata": {},
     "output_type": "display_data"
    }
   ],
   "source": [
    "plt.scatter(X_bahia[\"ano\"], y_bahia, label = 'Dados originais')\n",
    "plt.plot(X_bahia[\"ano\"], y_pred, color = 'red', label = 'Regressao polinomial')\n",
    "plt.xlabel('Ano')\n",
    "plt.ylabel('Consumo energetico(KWh)')\n",
    "plt.legend()\n",
    "plt.show()"
   ]
  }
 ],
 "metadata": {
  "kernelspec": {
   "display_name": ".petca-venv",
   "language": "python",
   "name": "python3"
  },
  "language_info": {
   "codemirror_mode": {
    "name": "ipython",
    "version": 3
   },
   "file_extension": ".py",
   "mimetype": "text/x-python",
   "name": "python",
   "nbconvert_exporter": "python",
   "pygments_lexer": "ipython3",
   "version": "3.12.3"
  }
 },
 "nbformat": 4,
 "nbformat_minor": 2
}
