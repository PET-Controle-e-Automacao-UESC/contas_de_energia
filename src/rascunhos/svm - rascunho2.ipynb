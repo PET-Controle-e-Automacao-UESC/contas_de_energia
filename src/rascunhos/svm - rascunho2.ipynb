{
 "cells": [
  {
   "cell_type": "code",
   "execution_count": 2,
   "metadata": {},
   "outputs": [],
   "source": [
    "import pandas as pd\n",
    "from sklearn.svm import SVR\n",
    "from sklearn.preprocessing import StandardScaler\n",
    "from sklearn.compose import TransformedTargetRegressor\n",
    "from sklearn.preprocessing import Normalizer\n",
    "from sklearn.preprocessing import MinMaxScaler\n",
    "import numpy as np\n",
    "\n",
    "import matplotlib.pyplot as plt\n",
    "import seaborn as sns"
   ]
  },
  {
   "cell_type": "markdown",
   "metadata": {},
   "source": [
    "Importando os dados:"
   ]
  },
  {
   "cell_type": "code",
   "execution_count": 3,
   "metadata": {},
   "outputs": [],
   "source": [
    "consuResiPorRegiao = pd.read_csv(\"../databases/tratado/consumo residencial por regiao/consumo residencial por regiao com total.csv\",index_col=[0,1])"
   ]
  },
  {
   "cell_type": "markdown",
   "metadata": {},
   "source": [
    "Verificando os dados"
   ]
  },
  {
   "cell_type": "code",
   "execution_count": 4,
   "metadata": {},
   "outputs": [
    {
     "data": {
      "text/html": [
       "<div>\n",
       "<style scoped>\n",
       "    .dataframe tbody tr th:only-of-type {\n",
       "        vertical-align: middle;\n",
       "    }\n",
       "\n",
       "    .dataframe tbody tr th {\n",
       "        vertical-align: top;\n",
       "    }\n",
       "\n",
       "    .dataframe thead th {\n",
       "        text-align: right;\n",
       "    }\n",
       "</style>\n",
       "<table border=\"1\" class=\"dataframe\">\n",
       "  <thead>\n",
       "    <tr style=\"text-align: right;\">\n",
       "      <th></th>\n",
       "      <th></th>\n",
       "      <th>JAN</th>\n",
       "      <th>FEV</th>\n",
       "      <th>MAR</th>\n",
       "      <th>ABR</th>\n",
       "      <th>MAI</th>\n",
       "      <th>JUN</th>\n",
       "      <th>JUL</th>\n",
       "      <th>AGO</th>\n",
       "      <th>SET</th>\n",
       "      <th>OUT</th>\n",
       "      <th>NOV</th>\n",
       "      <th>DEZ</th>\n",
       "      <th>total</th>\n",
       "    </tr>\n",
       "    <tr>\n",
       "      <th>ANO</th>\n",
       "      <th>REGIAO</th>\n",
       "      <th></th>\n",
       "      <th></th>\n",
       "      <th></th>\n",
       "      <th></th>\n",
       "      <th></th>\n",
       "      <th></th>\n",
       "      <th></th>\n",
       "      <th></th>\n",
       "      <th></th>\n",
       "      <th></th>\n",
       "      <th></th>\n",
       "      <th></th>\n",
       "      <th></th>\n",
       "    </tr>\n",
       "  </thead>\n",
       "  <tbody>\n",
       "    <tr>\n",
       "      <th rowspan=\"5\" valign=\"top\">2004</th>\n",
       "      <th>Centro-Oeste</th>\n",
       "      <td>506540</td>\n",
       "      <td>472103</td>\n",
       "      <td>493181</td>\n",
       "      <td>506071</td>\n",
       "      <td>492808</td>\n",
       "      <td>466359</td>\n",
       "      <td>470539</td>\n",
       "      <td>479192</td>\n",
       "      <td>514971</td>\n",
       "      <td>529450</td>\n",
       "      <td>505694</td>\n",
       "      <td>513252</td>\n",
       "      <td>5950160</td>\n",
       "    </tr>\n",
       "    <tr>\n",
       "      <th>Nordeste</th>\n",
       "      <td>1098664</td>\n",
       "      <td>1000221</td>\n",
       "      <td>1049437</td>\n",
       "      <td>1097251</td>\n",
       "      <td>1033007</td>\n",
       "      <td>1002351</td>\n",
       "      <td>969181</td>\n",
       "      <td>962934</td>\n",
       "      <td>1041242</td>\n",
       "      <td>1046249</td>\n",
       "      <td>1083212</td>\n",
       "      <td>1104220</td>\n",
       "      <td>12487969</td>\n",
       "    </tr>\n",
       "    <tr>\n",
       "      <th>Norte</th>\n",
       "      <td>348585</td>\n",
       "      <td>323403</td>\n",
       "      <td>320237</td>\n",
       "      <td>339775</td>\n",
       "      <td>332155</td>\n",
       "      <td>332089</td>\n",
       "      <td>328423</td>\n",
       "      <td>338836</td>\n",
       "      <td>351459</td>\n",
       "      <td>353207</td>\n",
       "      <td>362279</td>\n",
       "      <td>355894</td>\n",
       "      <td>4086342</td>\n",
       "    </tr>\n",
       "    <tr>\n",
       "      <th>Sudeste</th>\n",
       "      <td>3694386</td>\n",
       "      <td>3511541</td>\n",
       "      <td>3629455</td>\n",
       "      <td>3733863</td>\n",
       "      <td>3537269</td>\n",
       "      <td>3433443</td>\n",
       "      <td>3457623</td>\n",
       "      <td>3453322</td>\n",
       "      <td>3596160</td>\n",
       "      <td>3608130</td>\n",
       "      <td>3608515</td>\n",
       "      <td>3569438</td>\n",
       "      <td>42833145</td>\n",
       "    </tr>\n",
       "    <tr>\n",
       "      <th>Sul</th>\n",
       "      <td>1132506</td>\n",
       "      <td>1121970</td>\n",
       "      <td>1108027</td>\n",
       "      <td>1132047</td>\n",
       "      <td>1082103</td>\n",
       "      <td>1056850</td>\n",
       "      <td>1066705</td>\n",
       "      <td>1070192</td>\n",
       "      <td>1100557</td>\n",
       "      <td>1069478</td>\n",
       "      <td>1071490</td>\n",
       "      <td>1100567</td>\n",
       "      <td>13112492</td>\n",
       "    </tr>\n",
       "  </tbody>\n",
       "</table>\n",
       "</div>"
      ],
      "text/plain": [
       "                       JAN      FEV      MAR      ABR      MAI      JUN  \\\n",
       "ANO  REGIAO                                                               \n",
       "2004 Centro-Oeste   506540   472103   493181   506071   492808   466359   \n",
       "     Nordeste      1098664  1000221  1049437  1097251  1033007  1002351   \n",
       "     Norte          348585   323403   320237   339775   332155   332089   \n",
       "     Sudeste       3694386  3511541  3629455  3733863  3537269  3433443   \n",
       "     Sul           1132506  1121970  1108027  1132047  1082103  1056850   \n",
       "\n",
       "                       JUL      AGO      SET      OUT      NOV      DEZ  \\\n",
       "ANO  REGIAO                                                               \n",
       "2004 Centro-Oeste   470539   479192   514971   529450   505694   513252   \n",
       "     Nordeste       969181   962934  1041242  1046249  1083212  1104220   \n",
       "     Norte          328423   338836   351459   353207   362279   355894   \n",
       "     Sudeste       3457623  3453322  3596160  3608130  3608515  3569438   \n",
       "     Sul           1066705  1070192  1100557  1069478  1071490  1100567   \n",
       "\n",
       "                      total  \n",
       "ANO  REGIAO                  \n",
       "2004 Centro-Oeste   5950160  \n",
       "     Nordeste      12487969  \n",
       "     Norte          4086342  \n",
       "     Sudeste       42833145  \n",
       "     Sul           13112492  "
      ]
     },
     "execution_count": 4,
     "metadata": {},
     "output_type": "execute_result"
    }
   ],
   "source": [
    "consuResiPorRegiao.head()"
   ]
  },
  {
   "cell_type": "markdown",
   "metadata": {},
   "source": [
    "# Previsão região norte:"
   ]
  },
  {
   "cell_type": "markdown",
   "metadata": {},
   "source": [
    "Extraindo o consumo da região norte"
   ]
  },
  {
   "cell_type": "code",
   "execution_count": 5,
   "metadata": {},
   "outputs": [],
   "source": [
    "slicer = pd.IndexSlice\n",
    "consumo_mensal_norte=consuResiPorRegiao.loc[slicer[:, \"Norte\"], \"JAN\":\"DEZ\"].reset_index().drop(\"REGIAO\",axis=1)\n"
   ]
  },
  {
   "cell_type": "code",
   "execution_count": 6,
   "metadata": {},
   "outputs": [
    {
     "data": {
      "text/html": [
       "<div>\n",
       "<style scoped>\n",
       "    .dataframe tbody tr th:only-of-type {\n",
       "        vertical-align: middle;\n",
       "    }\n",
       "\n",
       "    .dataframe tbody tr th {\n",
       "        vertical-align: top;\n",
       "    }\n",
       "\n",
       "    .dataframe thead th {\n",
       "        text-align: right;\n",
       "    }\n",
       "</style>\n",
       "<table border=\"1\" class=\"dataframe\">\n",
       "  <thead>\n",
       "    <tr style=\"text-align: right;\">\n",
       "      <th></th>\n",
       "      <th>ANO</th>\n",
       "      <th>JAN</th>\n",
       "      <th>FEV</th>\n",
       "      <th>MAR</th>\n",
       "      <th>ABR</th>\n",
       "      <th>MAI</th>\n",
       "      <th>JUN</th>\n",
       "      <th>JUL</th>\n",
       "      <th>AGO</th>\n",
       "      <th>SET</th>\n",
       "      <th>OUT</th>\n",
       "      <th>NOV</th>\n",
       "      <th>DEZ</th>\n",
       "    </tr>\n",
       "  </thead>\n",
       "  <tbody>\n",
       "    <tr>\n",
       "      <th>0</th>\n",
       "      <td>2004</td>\n",
       "      <td>348585</td>\n",
       "      <td>323403</td>\n",
       "      <td>320237</td>\n",
       "      <td>339775</td>\n",
       "      <td>332155</td>\n",
       "      <td>332089</td>\n",
       "      <td>328423</td>\n",
       "      <td>338836</td>\n",
       "      <td>351459</td>\n",
       "      <td>353207</td>\n",
       "      <td>362279</td>\n",
       "      <td>355894</td>\n",
       "    </tr>\n",
       "    <tr>\n",
       "      <th>1</th>\n",
       "      <td>2005</td>\n",
       "      <td>355960</td>\n",
       "      <td>336135</td>\n",
       "      <td>341725</td>\n",
       "      <td>350369</td>\n",
       "      <td>338681</td>\n",
       "      <td>352716</td>\n",
       "      <td>356661</td>\n",
       "      <td>360833</td>\n",
       "      <td>381555</td>\n",
       "      <td>372756</td>\n",
       "      <td>384562</td>\n",
       "      <td>360953</td>\n",
       "    </tr>\n",
       "    <tr>\n",
       "      <th>2</th>\n",
       "      <td>2006</td>\n",
       "      <td>352086</td>\n",
       "      <td>343002</td>\n",
       "      <td>344413</td>\n",
       "      <td>348152</td>\n",
       "      <td>345138</td>\n",
       "      <td>355133</td>\n",
       "      <td>369332</td>\n",
       "      <td>372153</td>\n",
       "      <td>397912</td>\n",
       "      <td>397549</td>\n",
       "      <td>402093</td>\n",
       "      <td>380071</td>\n",
       "    </tr>\n",
       "    <tr>\n",
       "      <th>3</th>\n",
       "      <td>2007</td>\n",
       "      <td>377018</td>\n",
       "      <td>364503</td>\n",
       "      <td>352883</td>\n",
       "      <td>371967</td>\n",
       "      <td>371605</td>\n",
       "      <td>381288</td>\n",
       "      <td>374013</td>\n",
       "      <td>392888</td>\n",
       "      <td>408304</td>\n",
       "      <td>409738</td>\n",
       "      <td>422501</td>\n",
       "      <td>405279</td>\n",
       "    </tr>\n",
       "    <tr>\n",
       "      <th>4</th>\n",
       "      <td>2008</td>\n",
       "      <td>396323</td>\n",
       "      <td>380864</td>\n",
       "      <td>374421</td>\n",
       "      <td>386480</td>\n",
       "      <td>399647</td>\n",
       "      <td>399430</td>\n",
       "      <td>405359</td>\n",
       "      <td>434435</td>\n",
       "      <td>455038</td>\n",
       "      <td>453242</td>\n",
       "      <td>452781</td>\n",
       "      <td>431406</td>\n",
       "    </tr>\n",
       "    <tr>\n",
       "      <th>5</th>\n",
       "      <td>2009</td>\n",
       "      <td>437714</td>\n",
       "      <td>400108</td>\n",
       "      <td>393057</td>\n",
       "      <td>413043</td>\n",
       "      <td>406935</td>\n",
       "      <td>411397</td>\n",
       "      <td>429684</td>\n",
       "      <td>453741</td>\n",
       "      <td>475717</td>\n",
       "      <td>472878</td>\n",
       "      <td>484073</td>\n",
       "      <td>478521</td>\n",
       "    </tr>\n",
       "    <tr>\n",
       "      <th>6</th>\n",
       "      <td>2010</td>\n",
       "      <td>460383</td>\n",
       "      <td>442546</td>\n",
       "      <td>466995</td>\n",
       "      <td>487028</td>\n",
       "      <td>479188</td>\n",
       "      <td>497484</td>\n",
       "      <td>490071</td>\n",
       "      <td>492103</td>\n",
       "      <td>529944</td>\n",
       "      <td>541500</td>\n",
       "      <td>525898</td>\n",
       "      <td>509429</td>\n",
       "    </tr>\n",
       "    <tr>\n",
       "      <th>7</th>\n",
       "      <td>2011</td>\n",
       "      <td>496172</td>\n",
       "      <td>452353</td>\n",
       "      <td>477637</td>\n",
       "      <td>471596</td>\n",
       "      <td>487643</td>\n",
       "      <td>520799</td>\n",
       "      <td>513870</td>\n",
       "      <td>541456</td>\n",
       "      <td>567602</td>\n",
       "      <td>567178</td>\n",
       "      <td>548988</td>\n",
       "      <td>548931</td>\n",
       "    </tr>\n",
       "    <tr>\n",
       "      <th>8</th>\n",
       "      <td>2012</td>\n",
       "      <td>524135</td>\n",
       "      <td>503434</td>\n",
       "      <td>503494</td>\n",
       "      <td>532486</td>\n",
       "      <td>552161</td>\n",
       "      <td>566437</td>\n",
       "      <td>551450</td>\n",
       "      <td>592424</td>\n",
       "      <td>604096</td>\n",
       "      <td>608315</td>\n",
       "      <td>628098</td>\n",
       "      <td>597632</td>\n",
       "    </tr>\n",
       "    <tr>\n",
       "      <th>9</th>\n",
       "      <td>2013</td>\n",
       "      <td>577517</td>\n",
       "      <td>560166</td>\n",
       "      <td>543558</td>\n",
       "      <td>591995</td>\n",
       "      <td>595852</td>\n",
       "      <td>616782</td>\n",
       "      <td>623393</td>\n",
       "      <td>629182</td>\n",
       "      <td>640168</td>\n",
       "      <td>687065</td>\n",
       "      <td>675367</td>\n",
       "      <td>683978</td>\n",
       "    </tr>\n",
       "    <tr>\n",
       "      <th>10</th>\n",
       "      <td>2014</td>\n",
       "      <td>651827</td>\n",
       "      <td>640104</td>\n",
       "      <td>665706</td>\n",
       "      <td>649978</td>\n",
       "      <td>705888</td>\n",
       "      <td>693230</td>\n",
       "      <td>712711</td>\n",
       "      <td>735422</td>\n",
       "      <td>755837</td>\n",
       "      <td>756891</td>\n",
       "      <td>745283</td>\n",
       "      <td>761455</td>\n",
       "    </tr>\n",
       "    <tr>\n",
       "      <th>11</th>\n",
       "      <td>2015</td>\n",
       "      <td>726570</td>\n",
       "      <td>677514</td>\n",
       "      <td>680311</td>\n",
       "      <td>675513</td>\n",
       "      <td>679533</td>\n",
       "      <td>695205</td>\n",
       "      <td>746477</td>\n",
       "      <td>763948</td>\n",
       "      <td>820516</td>\n",
       "      <td>884653</td>\n",
       "      <td>872136</td>\n",
       "      <td>851295</td>\n",
       "    </tr>\n",
       "    <tr>\n",
       "      <th>12</th>\n",
       "      <td>2016</td>\n",
       "      <td>759843</td>\n",
       "      <td>740736</td>\n",
       "      <td>751194</td>\n",
       "      <td>747941</td>\n",
       "      <td>754695</td>\n",
       "      <td>783331</td>\n",
       "      <td>796979</td>\n",
       "      <td>822097</td>\n",
       "      <td>830479</td>\n",
       "      <td>828560</td>\n",
       "      <td>834314</td>\n",
       "      <td>826045</td>\n",
       "    </tr>\n",
       "    <tr>\n",
       "      <th>13</th>\n",
       "      <td>2017</td>\n",
       "      <td>746531</td>\n",
       "      <td>678124</td>\n",
       "      <td>725088</td>\n",
       "      <td>725326</td>\n",
       "      <td>791781</td>\n",
       "      <td>806273</td>\n",
       "      <td>767490</td>\n",
       "      <td>847732</td>\n",
       "      <td>865723</td>\n",
       "      <td>867252</td>\n",
       "      <td>851687</td>\n",
       "      <td>823516</td>\n",
       "    </tr>\n",
       "    <tr>\n",
       "      <th>14</th>\n",
       "      <td>2018</td>\n",
       "      <td>749421</td>\n",
       "      <td>721929</td>\n",
       "      <td>749309</td>\n",
       "      <td>761093</td>\n",
       "      <td>784448</td>\n",
       "      <td>776976</td>\n",
       "      <td>782046</td>\n",
       "      <td>797189</td>\n",
       "      <td>804933</td>\n",
       "      <td>861574</td>\n",
       "      <td>841537</td>\n",
       "      <td>738718</td>\n",
       "    </tr>\n",
       "    <tr>\n",
       "      <th>15</th>\n",
       "      <td>2019</td>\n",
       "      <td>726874</td>\n",
       "      <td>713769</td>\n",
       "      <td>731745</td>\n",
       "      <td>751878</td>\n",
       "      <td>777287</td>\n",
       "      <td>782406</td>\n",
       "      <td>807441</td>\n",
       "      <td>817871</td>\n",
       "      <td>855773</td>\n",
       "      <td>826928</td>\n",
       "      <td>837489</td>\n",
       "      <td>837765</td>\n",
       "    </tr>\n",
       "    <tr>\n",
       "      <th>16</th>\n",
       "      <td>2020</td>\n",
       "      <td>799554</td>\n",
       "      <td>795849</td>\n",
       "      <td>809203</td>\n",
       "      <td>825130</td>\n",
       "      <td>821868</td>\n",
       "      <td>829362</td>\n",
       "      <td>873226</td>\n",
       "      <td>896084</td>\n",
       "      <td>941910</td>\n",
       "      <td>961023</td>\n",
       "      <td>926031</td>\n",
       "      <td>856868</td>\n",
       "    </tr>\n",
       "    <tr>\n",
       "      <th>17</th>\n",
       "      <td>2021</td>\n",
       "      <td>829320</td>\n",
       "      <td>798266</td>\n",
       "      <td>811549</td>\n",
       "      <td>863586</td>\n",
       "      <td>857418</td>\n",
       "      <td>890071</td>\n",
       "      <td>852598</td>\n",
       "      <td>908326</td>\n",
       "      <td>973482</td>\n",
       "      <td>961855</td>\n",
       "      <td>943441</td>\n",
       "      <td>931826</td>\n",
       "    </tr>\n",
       "    <tr>\n",
       "      <th>18</th>\n",
       "      <td>2022</td>\n",
       "      <td>878646</td>\n",
       "      <td>829751</td>\n",
       "      <td>886754</td>\n",
       "      <td>860992</td>\n",
       "      <td>899520</td>\n",
       "      <td>899714</td>\n",
       "      <td>923014</td>\n",
       "      <td>995812</td>\n",
       "      <td>1032571</td>\n",
       "      <td>1044150</td>\n",
       "      <td>982073</td>\n",
       "      <td>989692</td>\n",
       "    </tr>\n",
       "    <tr>\n",
       "      <th>19</th>\n",
       "      <td>2023</td>\n",
       "      <td>908626</td>\n",
       "      <td>864397</td>\n",
       "      <td>948603</td>\n",
       "      <td>936381</td>\n",
       "      <td>999291</td>\n",
       "      <td>1044363</td>\n",
       "      <td>1036735</td>\n",
       "      <td>1123220</td>\n",
       "      <td>1186719</td>\n",
       "      <td>1222328</td>\n",
       "      <td>1235789</td>\n",
       "      <td>1171554</td>\n",
       "    </tr>\n",
       "  </tbody>\n",
       "</table>\n",
       "</div>"
      ],
      "text/plain": [
       "     ANO     JAN     FEV     MAR     ABR     MAI      JUN      JUL      AGO  \\\n",
       "0   2004  348585  323403  320237  339775  332155   332089   328423   338836   \n",
       "1   2005  355960  336135  341725  350369  338681   352716   356661   360833   \n",
       "2   2006  352086  343002  344413  348152  345138   355133   369332   372153   \n",
       "3   2007  377018  364503  352883  371967  371605   381288   374013   392888   \n",
       "4   2008  396323  380864  374421  386480  399647   399430   405359   434435   \n",
       "5   2009  437714  400108  393057  413043  406935   411397   429684   453741   \n",
       "6   2010  460383  442546  466995  487028  479188   497484   490071   492103   \n",
       "7   2011  496172  452353  477637  471596  487643   520799   513870   541456   \n",
       "8   2012  524135  503434  503494  532486  552161   566437   551450   592424   \n",
       "9   2013  577517  560166  543558  591995  595852   616782   623393   629182   \n",
       "10  2014  651827  640104  665706  649978  705888   693230   712711   735422   \n",
       "11  2015  726570  677514  680311  675513  679533   695205   746477   763948   \n",
       "12  2016  759843  740736  751194  747941  754695   783331   796979   822097   \n",
       "13  2017  746531  678124  725088  725326  791781   806273   767490   847732   \n",
       "14  2018  749421  721929  749309  761093  784448   776976   782046   797189   \n",
       "15  2019  726874  713769  731745  751878  777287   782406   807441   817871   \n",
       "16  2020  799554  795849  809203  825130  821868   829362   873226   896084   \n",
       "17  2021  829320  798266  811549  863586  857418   890071   852598   908326   \n",
       "18  2022  878646  829751  886754  860992  899520   899714   923014   995812   \n",
       "19  2023  908626  864397  948603  936381  999291  1044363  1036735  1123220   \n",
       "\n",
       "        SET      OUT      NOV      DEZ  \n",
       "0    351459   353207   362279   355894  \n",
       "1    381555   372756   384562   360953  \n",
       "2    397912   397549   402093   380071  \n",
       "3    408304   409738   422501   405279  \n",
       "4    455038   453242   452781   431406  \n",
       "5    475717   472878   484073   478521  \n",
       "6    529944   541500   525898   509429  \n",
       "7    567602   567178   548988   548931  \n",
       "8    604096   608315   628098   597632  \n",
       "9    640168   687065   675367   683978  \n",
       "10   755837   756891   745283   761455  \n",
       "11   820516   884653   872136   851295  \n",
       "12   830479   828560   834314   826045  \n",
       "13   865723   867252   851687   823516  \n",
       "14   804933   861574   841537   738718  \n",
       "15   855773   826928   837489   837765  \n",
       "16   941910   961023   926031   856868  \n",
       "17   973482   961855   943441   931826  \n",
       "18  1032571  1044150   982073   989692  \n",
       "19  1186719  1222328  1235789  1171554  "
      ]
     },
     "execution_count": 6,
     "metadata": {},
     "output_type": "execute_result"
    }
   ],
   "source": [
    "consumo_mensal_norte"
   ]
  },
  {
   "cell_type": "markdown",
   "metadata": {},
   "source": [
    "formatando a data"
   ]
  },
  {
   "cell_type": "code",
   "execution_count": 7,
   "metadata": {},
   "outputs": [],
   "source": [
    "def trans(mes, ano, dado):\n",
    "    if mes == \"JAN\":\n",
    "        return [\"01/\"+str(ano), consumo_mensal_norte[consumo_mensal_norte[\"ANO\"] == ano][mes].iloc[0]]\n",
    "    elif mes ==\"FEV\":\n",
    "        return [\"02/\"+str(ano), consumo_mensal_norte[consumo_mensal_norte[\"ANO\"] == ano][mes].iloc[0]]\n",
    "    elif mes ==\"MAR\":\n",
    "        return [\"03/\"+str(ano), consumo_mensal_norte[consumo_mensal_norte[\"ANO\"] == ano][mes].iloc[0]]\n",
    "    elif mes ==\"ABR\":\n",
    "        return [\"04/\" + str(ano), consumo_mensal_norte[consumo_mensal_norte[\"ANO\"] == ano][mes].iloc[0]]\n",
    "    elif mes == \"MAI\":\n",
    "        return [\"05/\"+str(ano), consumo_mensal_norte[consumo_mensal_norte[\"ANO\"] == ano][mes].iloc[0]]\n",
    "    elif mes == \"JUN\":\n",
    "        return [\"06/\"+str(ano), consumo_mensal_norte[consumo_mensal_norte[\"ANO\"] == ano][mes].iloc[0]]\n",
    "    elif mes == \"JUL\":\n",
    "        return [\"07/\"+str(ano), consumo_mensal_norte[consumo_mensal_norte[\"ANO\"] == ano][mes].iloc[0]]\n",
    "    elif mes == \"AGO\":\n",
    "        return [\"08/\"+str(ano), consumo_mensal_norte[consumo_mensal_norte[\"ANO\"] == ano][mes].iloc[0]]\n",
    "    elif mes == \"SET\":\n",
    "        return [\"09/\"+str(ano), consumo_mensal_norte[consumo_mensal_norte[\"ANO\"] == ano][mes].iloc[0]]\n",
    "    elif mes == \"OUT\":\n",
    "        return [\"10/\"+str(ano), consumo_mensal_norte[consumo_mensal_norte[\"ANO\"] == ano][mes].iloc[0]]\n",
    "    elif mes == \"NOV\":\n",
    "        return [\"11/\"+str(ano), consumo_mensal_norte[consumo_mensal_norte[\"ANO\"] == ano][mes].iloc[0]]\n",
    "    elif mes == \"DEZ\":\n",
    "        return [\"12/\"+str(ano), consumo_mensal_norte[consumo_mensal_norte[\"ANO\"] == ano][mes].iloc[0]]"
   ]
  },
  {
   "cell_type": "code",
   "execution_count": 8,
   "metadata": {},
   "outputs": [
    {
     "data": {
      "text/plain": [
       "['01/2004', 348585]"
      ]
     },
     "execution_count": 8,
     "metadata": {},
     "output_type": "execute_result"
    }
   ],
   "source": [
    "trans(\"JAN\", 2004, consumo_mensal_norte) #como vai ficar"
   ]
  },
  {
   "cell_type": "code",
   "execution_count": 9,
   "metadata": {},
   "outputs": [],
   "source": [
    "meses = consumo_mensal_norte.columns[1:13]\n",
    "ano=consumo_mensal_norte[\"ANO\"]\n",
    "from datetime import datetime\n",
    "#t={trans(a, b, consumo_mensal_norte) for (a, b) in zip(meses, ano)}\n",
    "\n",
    "serie = {}\n",
    "for a in meses:\n",
    "    for b in ano:\n",
    "        foo = trans(a, b, consumo_mensal_norte)\n",
    "        serie[foo[0]] = foo[1]\n",
    "\n",
    "\n"
   ]
  },
  {
   "cell_type": "code",
   "execution_count": 10,
   "metadata": {},
   "outputs": [
    {
     "data": {
      "text/plain": [
       "<Axes: >"
      ]
     },
     "execution_count": 10,
     "metadata": {},
     "output_type": "execute_result"
    },
    {
     "data": {
      "image/png": "[encoded data removed]",
      "text/plain": [
       "<Figure size 640x480 with 1 Axes>"
      ]
     },
     "metadata": {},
     "output_type": "display_data"
    }
   ],
   "source": [
    "serie=pd.Series(serie, name=\"consumo_regiao_norte\") #transformando a data em indice\n",
    "consumoNorte=pd.DataFrame(serie)\n",
    "consumoNorte.index = pd.to_datetime(consumoNorte.index, format=\"%m/%Y\")\n",
    "consumoNorte.sort_index(inplace=True)\n",
    "consumoNorte.plot.line()"
   ]
  },
  {
   "cell_type": "code",
   "execution_count": 11,
   "metadata": {},
   "outputs": [
    {
     "data": {
      "text/html": [
       "<div>\n",
       "<style scoped>\n",
       "    .dataframe tbody tr th:only-of-type {\n",
       "        vertical-align: middle;\n",
       "    }\n",
       "\n",
       "    .dataframe tbody tr th {\n",
       "        vertical-align: top;\n",
       "    }\n",
       "\n",
       "    .dataframe thead th {\n",
       "        text-align: right;\n",
       "    }\n",
       "</style>\n",
       "<table border=\"1\" class=\"dataframe\">\n",
       "  <thead>\n",
       "    <tr style=\"text-align: right;\">\n",
       "      <th></th>\n",
       "      <th>consumo_regiao_norte</th>\n",
       "    </tr>\n",
       "  </thead>\n",
       "  <tbody>\n",
       "    <tr>\n",
       "      <th>2004-01-01</th>\n",
       "      <td>348585</td>\n",
       "    </tr>\n",
       "    <tr>\n",
       "      <th>2004-02-01</th>\n",
       "      <td>323403</td>\n",
       "    </tr>\n",
       "    <tr>\n",
       "      <th>2004-03-01</th>\n",
       "      <td>320237</td>\n",
       "    </tr>\n",
       "    <tr>\n",
       "      <th>2004-04-01</th>\n",
       "      <td>339775</td>\n",
       "    </tr>\n",
       "    <tr>\n",
       "      <th>2004-05-01</th>\n",
       "      <td>332155</td>\n",
       "    </tr>\n",
       "  </tbody>\n",
       "</table>\n",
       "</div>"
      ],
      "text/plain": [
       "            consumo_regiao_norte\n",
       "2004-01-01                348585\n",
       "2004-02-01                323403\n",
       "2004-03-01                320237\n",
       "2004-04-01                339775\n",
       "2004-05-01                332155"
      ]
     },
     "execution_count": 11,
     "metadata": {},
     "output_type": "execute_result"
    }
   ],
   "source": [
    "consumoNorte.head(5)"
   ]
  },
  {
   "cell_type": "code",
   "execution_count": 42,
   "metadata": {},
   "outputs": [],
   "source": [
    "consumoNorte.index.name=\"data\""
   ]
  },
  {
   "cell_type": "code",
   "execution_count": 43,
   "metadata": {},
   "outputs": [],
   "source": [
    "consumoNorte.to_csv(\"../databases/tratado/consumo residencial por regiao/consumo residencial regiao norte.csv\")"
   ]
  },
  {
   "cell_type": "code",
   "execution_count": 14,
   "metadata": {},
   "outputs": [
    {
     "data": {
      "text/plain": [
       "<Axes: >"
      ]
     },
     "execution_count": 14,
     "metadata": {},
     "output_type": "execute_result"
    },
    {
     "data": {
      "image/png": "[encoded data removed]",
      "text/plain": [
       "<Figure size 640x480 with 1 Axes>"
      ]
     },
     "metadata": {},
     "output_type": "display_data"
    }
   ],
   "source": [
    "consumoNorte.head(12).plot.line()"
   ]
  },
  {
   "cell_type": "markdown",
   "metadata": {},
   "source": [
    "## Previsão"
   ]
  },
  {
   "cell_type": "code",
   "execution_count": 15,
   "metadata": {},
   "outputs": [],
   "source": [
    "from sklearn.svm import SVR\n",
    "from sklearn.metrics import mean_squared_error"
   ]
  },
  {
   "cell_type": "markdown",
   "metadata": {},
   "source": [
    "confirmando se está em ordem"
   ]
  },
  {
   "cell_type": "code",
   "execution_count": 16,
   "metadata": {},
   "outputs": [
    {
     "data": {
      "text/html": [
       "<div>\n",
       "<style scoped>\n",
       "    .dataframe tbody tr th:only-of-type {\n",
       "        vertical-align: middle;\n",
       "    }\n",
       "\n",
       "    .dataframe tbody tr th {\n",
       "        vertical-align: top;\n",
       "    }\n",
       "\n",
       "    .dataframe thead th {\n",
       "        text-align: right;\n",
       "    }\n",
       "</style>\n",
       "<table border=\"1\" class=\"dataframe\">\n",
       "  <thead>\n",
       "    <tr style=\"text-align: right;\">\n",
       "      <th></th>\n",
       "      <th>consumo_regiao_norte</th>\n",
       "    </tr>\n",
       "  </thead>\n",
       "  <tbody>\n",
       "    <tr>\n",
       "      <th>2004-01-01</th>\n",
       "      <td>348585</td>\n",
       "    </tr>\n",
       "    <tr>\n",
       "      <th>2004-02-01</th>\n",
       "      <td>323403</td>\n",
       "    </tr>\n",
       "    <tr>\n",
       "      <th>2004-03-01</th>\n",
       "      <td>320237</td>\n",
       "    </tr>\n",
       "    <tr>\n",
       "      <th>2004-04-01</th>\n",
       "      <td>339775</td>\n",
       "    </tr>\n",
       "    <tr>\n",
       "      <th>2004-05-01</th>\n",
       "      <td>332155</td>\n",
       "    </tr>\n",
       "  </tbody>\n",
       "</table>\n",
       "</div>"
      ],
      "text/plain": [
       "            consumo_regiao_norte\n",
       "2004-01-01                348585\n",
       "2004-02-01                323403\n",
       "2004-03-01                320237\n",
       "2004-04-01                339775\n",
       "2004-05-01                332155"
      ]
     },
     "execution_count": 16,
     "metadata": {},
     "output_type": "execute_result"
    }
   ],
   "source": [
    "consumoNorte.head()\n"
   ]
  },
  {
   "cell_type": "code",
   "execution_count": 17,
   "metadata": {},
   "outputs": [
    {
     "data": {
      "text/html": [
       "<div>\n",
       "<style scoped>\n",
       "    .dataframe tbody tr th:only-of-type {\n",
       "        vertical-align: middle;\n",
       "    }\n",
       "\n",
       "    .dataframe tbody tr th {\n",
       "        vertical-align: top;\n",
       "    }\n",
       "\n",
       "    .dataframe thead th {\n",
       "        text-align: right;\n",
       "    }\n",
       "</style>\n",
       "<table border=\"1\" class=\"dataframe\">\n",
       "  <thead>\n",
       "    <tr style=\"text-align: right;\">\n",
       "      <th></th>\n",
       "      <th>consumo_regiao_norte</th>\n",
       "    </tr>\n",
       "  </thead>\n",
       "  <tbody>\n",
       "    <tr>\n",
       "      <th>2023-08-01</th>\n",
       "      <td>1123220</td>\n",
       "    </tr>\n",
       "    <tr>\n",
       "      <th>2023-09-01</th>\n",
       "      <td>1186719</td>\n",
       "    </tr>\n",
       "    <tr>\n",
       "      <th>2023-10-01</th>\n",
       "      <td>1222328</td>\n",
       "    </tr>\n",
       "    <tr>\n",
       "      <th>2023-11-01</th>\n",
       "      <td>1235789</td>\n",
       "    </tr>\n",
       "    <tr>\n",
       "      <th>2023-12-01</th>\n",
       "      <td>1171554</td>\n",
       "    </tr>\n",
       "  </tbody>\n",
       "</table>\n",
       "</div>"
      ],
      "text/plain": [
       "            consumo_regiao_norte\n",
       "2023-08-01               1123220\n",
       "2023-09-01               1186719\n",
       "2023-10-01               1222328\n",
       "2023-11-01               1235789\n",
       "2023-12-01               1171554"
      ]
     },
     "execution_count": 17,
     "metadata": {},
     "output_type": "execute_result"
    }
   ],
   "source": [
    "consumoNorte.tail()"
   ]
  },
  {
   "cell_type": "code",
   "execution_count": 18,
   "metadata": {},
   "outputs": [],
   "source": [
    "from sklearn.model_selection import cross_val_score\n",
    "from sklearn.model_selection import TimeSeriesSplit\n",
    "from sklearn.model_selection import KFold\n",
    "\n"
   ]
  },
  {
   "cell_type": "markdown",
   "metadata": {},
   "source": [
    "Teste inicial"
   ]
  },
  {
   "cell_type": "code",
   "execution_count": 19,
   "metadata": {},
   "outputs": [
    {
     "data": {
      "text/plain": [
       "DatetimeIndex(['2004-01-01', '2004-02-01', '2004-03-01', '2004-04-01',\n",
       "               '2004-05-01', '2004-06-01', '2004-07-01', '2004-08-01',\n",
       "               '2004-09-01', '2004-10-01',\n",
       "               ...\n",
       "               '2023-03-01', '2023-04-01', '2023-05-01', '2023-06-01',\n",
       "               '2023-07-01', '2023-08-01', '2023-09-01', '2023-10-01',\n",
       "               '2023-11-01', '2023-12-01'],\n",
       "              dtype='datetime64[ns]', length=240, freq=None)"
      ]
     },
     "execution_count": 19,
     "metadata": {},
     "output_type": "execute_result"
    }
   ],
   "source": [
    "datas = consumoNorte.index #extraindo as features (datas)\n",
    "datas"
   ]
  },
  {
   "cell_type": "code",
   "execution_count": 20,
   "metadata": {},
   "outputs": [
    {
     "data": {
      "text/plain": [
       "array([[ 348585],\n",
       "       [ 323403],\n",
       "       [ 320237],\n",
       "       [ 339775],\n",
       "       [ 332155],\n",
       "       [ 332089],\n",
       "       [ 328423],\n",
       "       [ 338836],\n",
       "       [ 351459],\n",
       "       [ 353207],\n",
       "       [ 362279],\n",
       "       [ 355894],\n",
       "       [ 355960],\n",
       "       [ 336135],\n",
       "       [ 341725],\n",
       "       [ 350369],\n",
       "       [ 338681],\n",
       "       [ 352716],\n",
       "       [ 356661],\n",
       "       [ 360833],\n",
       "       [ 381555],\n",
       "       [ 372756],\n",
       "       [ 384562],\n",
       "       [ 360953],\n",
       "       [ 352086],\n",
       "       [ 343002],\n",
       "       [ 344413],\n",
       "       [ 348152],\n",
       "       [ 345138],\n",
       "       [ 355133],\n",
       "       [ 369332],\n",
       "       [ 372153],\n",
       "       [ 397912],\n",
       "       [ 397549],\n",
       "       [ 402093],\n",
       "       [ 380071],\n",
       "       [ 377018],\n",
       "       [ 364503],\n",
       "       [ 352883],\n",
       "       [ 371967],\n",
       "       [ 371605],\n",
       "       [ 381288],\n",
       "       [ 374013],\n",
       "       [ 392888],\n",
       "       [ 408304],\n",
       "       [ 409738],\n",
       "       [ 422501],\n",
       "       [ 405279],\n",
       "       [ 396323],\n",
       "       [ 380864],\n",
       "       [ 374421],\n",
       "       [ 386480],\n",
       "       [ 399647],\n",
       "       [ 399430],\n",
       "       [ 405359],\n",
       "       [ 434435],\n",
       "       [ 455038],\n",
       "       [ 453242],\n",
       "       [ 452781],\n",
       "       [ 431406],\n",
       "       [ 437714],\n",
       "       [ 400108],\n",
       "       [ 393057],\n",
       "       [ 413043],\n",
       "       [ 406935],\n",
       "       [ 411397],\n",
       "       [ 429684],\n",
       "       [ 453741],\n",
       "       [ 475717],\n",
       "       [ 472878],\n",
       "       [ 484073],\n",
       "       [ 478521],\n",
       "       [ 460383],\n",
       "       [ 442546],\n",
       "       [ 466995],\n",
       "       [ 487028],\n",
       "       [ 479188],\n",
       "       [ 497484],\n",
       "       [ 490071],\n",
       "       [ 492103],\n",
       "       [ 529944],\n",
       "       [ 541500],\n",
       "       [ 525898],\n",
       "       [ 509429],\n",
       "       [ 496172],\n",
       "       [ 452353],\n",
       "       [ 477637],\n",
       "       [ 471596],\n",
       "       [ 487643],\n",
       "       [ 520799],\n",
       "       [ 513870],\n",
       "       [ 541456],\n",
       "       [ 567602],\n",
       "       [ 567178],\n",
       "       [ 548988],\n",
       "       [ 548931],\n",
       "       [ 524135],\n",
       "       [ 503434],\n",
       "       [ 503494],\n",
       "       [ 532486],\n",
       "       [ 552161],\n",
       "       [ 566437],\n",
       "       [ 551450],\n",
       "       [ 592424],\n",
       "       [ 604096],\n",
       "       [ 608315],\n",
       "       [ 628098],\n",
       "       [ 597632],\n",
       "       [ 577517],\n",
       "       [ 560166],\n",
       "       [ 543558],\n",
       "       [ 591995],\n",
       "       [ 595852],\n",
       "       [ 616782],\n",
       "       [ 623393],\n",
       "       [ 629182],\n",
       "       [ 640168],\n",
       "       [ 687065],\n",
       "       [ 675367],\n",
       "       [ 683978],\n",
       "       [ 651827],\n",
       "       [ 640104],\n",
       "       [ 665706],\n",
       "       [ 649978],\n",
       "       [ 705888],\n",
       "       [ 693230],\n",
       "       [ 712711],\n",
       "       [ 735422],\n",
       "       [ 755837],\n",
       "       [ 756891],\n",
       "       [ 745283],\n",
       "       [ 761455],\n",
       "       [ 726570],\n",
       "       [ 677514],\n",
       "       [ 680311],\n",
       "       [ 675513],\n",
       "       [ 679533],\n",
       "       [ 695205],\n",
       "       [ 746477],\n",
       "       [ 763948],\n",
       "       [ 820516],\n",
       "       [ 884653],\n",
       "       [ 872136],\n",
       "       [ 851295],\n",
       "       [ 759843],\n",
       "       [ 740736],\n",
       "       [ 751194],\n",
       "       [ 747941],\n",
       "       [ 754695],\n",
       "       [ 783331],\n",
       "       [ 796979],\n",
       "       [ 822097],\n",
       "       [ 830479],\n",
       "       [ 828560],\n",
       "       [ 834314],\n",
       "       [ 826045],\n",
       "       [ 746531],\n",
       "       [ 678124],\n",
       "       [ 725088],\n",
       "       [ 725326],\n",
       "       [ 791781],\n",
       "       [ 806273],\n",
       "       [ 767490],\n",
       "       [ 847732],\n",
       "       [ 865723],\n",
       "       [ 867252],\n",
       "       [ 851687],\n",
       "       [ 823516],\n",
       "       [ 749421],\n",
       "       [ 721929],\n",
       "       [ 749309],\n",
       "       [ 761093],\n",
       "       [ 784448],\n",
       "       [ 776976],\n",
       "       [ 782046],\n",
       "       [ 797189],\n",
       "       [ 804933],\n",
       "       [ 861574],\n",
       "       [ 841537],\n",
       "       [ 738718],\n",
       "       [ 726874],\n",
       "       [ 713769],\n",
       "       [ 731745],\n",
       "       [ 751878],\n",
       "       [ 777287],\n",
       "       [ 782406],\n",
       "       [ 807441],\n",
       "       [ 817871],\n",
       "       [ 855773],\n",
       "       [ 826928],\n",
       "       [ 837489],\n",
       "       [ 837765],\n",
       "       [ 799554],\n",
       "       [ 795849],\n",
       "       [ 809203],\n",
       "       [ 825130],\n",
       "       [ 821868],\n",
       "       [ 829362],\n",
       "       [ 873226],\n",
       "       [ 896084],\n",
       "       [ 941910],\n",
       "       [ 961023],\n",
       "       [ 926031],\n",
       "       [ 856868],\n",
       "       [ 829320],\n",
       "       [ 798266],\n",
       "       [ 811549],\n",
       "       [ 863586],\n",
       "       [ 857418],\n",
       "       [ 890071],\n",
       "       [ 852598],\n",
       "       [ 908326],\n",
       "       [ 973482],\n",
       "       [ 961855],\n",
       "       [ 943441],\n",
       "       [ 931826],\n",
       "       [ 878646],\n",
       "       [ 829751],\n",
       "       [ 886754],\n",
       "       [ 860992],\n",
       "       [ 899520],\n",
       "       [ 899714],\n",
       "       [ 923014],\n",
       "       [ 995812],\n",
       "       [1032571],\n",
       "       [1044150],\n",
       "       [ 982073],\n",
       "       [ 989692],\n",
       "       [ 908626],\n",
       "       [ 864397],\n",
       "       [ 948603],\n",
       "       [ 936381],\n",
       "       [ 999291],\n",
       "       [1044363],\n",
       "       [1036735],\n",
       "       [1123220],\n",
       "       [1186719],\n",
       "       [1222328],\n",
       "       [1235789],\n",
       "       [1171554]], dtype=int64)"
      ]
     },
     "execution_count": 20,
     "metadata": {},
     "output_type": "execute_result"
    }
   ],
   "source": [
    "consumo=consumoNorte.values.reshape(-1, 1) #extraindo o target (consumo)\n",
    "consumo"
   ]
  },
  {
   "cell_type": "markdown",
   "metadata": {},
   "source": [
    "separando em treino e teste"
   ]
  },
  {
   "cell_type": "code",
   "execution_count": 21,
   "metadata": {},
   "outputs": [],
   "source": [
    "train_size = int(datas.size * .8)\n",
    "scaler_consumo = MinMaxScaler()\n",
    "scaled_consumo = scaler_consumo.fit_transform(consumo)\n",
    "#scaled_consumo = consumo\n",
    "train_dates, teste_dates = np.array(datas[:train_size]), np.array(datas[train_size:])\n",
    "train_consumo, teste_consumo = scaled_consumo[:train_size].ravel(), scaled_consumo[train_size:].ravel()"
   ]
  },
  {
   "cell_type": "code",
   "execution_count": 22,
   "metadata": {},
   "outputs": [],
   "source": [
    "from sklearn.svm import SVR"
   ]
  },
  {
   "cell_type": "code",
   "execution_count": 23,
   "metadata": {},
   "outputs": [],
   "source": [
    "#params = {\"kernel\" :( \"rbf\",), \"C\" : (1, 10, 100, 1000, 10000, 100000, 1000000), \"epsilon\" : (1, 0.1, 0.01, 0.001, 0.0001, \n",
    "#                                                                                     0.00001, 0.000001)}\n",
    "#from sklearn.model_selection import GridSearchCV\n",
    "#regressor = SVR(kernel=\"rbf\")\n",
    "#grid_search = GridSearchCV(estimator=regressor, param_grid=params, scoring=\"r2\")\n",
    "#\n",
    "#grid_search.fit(train_dates.reshape(-1, 1), train_consumo)"
   ]
  },
  {
   "cell_type": "code",
   "execution_count": 24,
   "metadata": {},
   "outputs": [],
   "source": [
    "#grid_search.best_params_"
   ]
  },
  {
   "cell_type": "code",
   "execution_count": 25,
   "metadata": {},
   "outputs": [],
   "source": [
    "#grid_search.best_score_"
   ]
  },
  {
   "cell_type": "code",
   "execution_count": 26,
   "metadata": {},
   "outputs": [],
   "source": [
    "epsilon = 0.00001\n",
    "epsilon = 0.05\n",
    "C = 10"
   ]
  },
  {
   "cell_type": "code",
   "execution_count": 27,
   "metadata": {},
   "outputs": [],
   "source": [
    "svr_model = SVR(kernel=\"rbf\", epsilon=epsilon, C=C)\n"
   ]
  },
  {
   "cell_type": "code",
   "execution_count": 28,
   "metadata": {},
   "outputs": [
    {
     "data": {
      "text/html": [
       "<style>#sk-container-id-1 {color: black;}#sk-container-id-1 pre{padding: 0;}#sk-container-id-1 div.sk-toggleable {background-color: white;}#sk-container-id-1 label.sk-toggleable__label {cursor: pointer;display: block;width: 100%;margin-bottom: 0;padding: 0.3em;box-sizing: border-box;text-align: center;}#sk-container-id-1 label.sk-toggleable__label-arrow:before {content: \"▸\";float: left;margin-right: 0.25em;color: #696969;}#sk-container-id-1 label.sk-toggleable__label-arrow:hover:before {color: black;}#sk-container-id-1 div.sk-estimator:hover label.sk-toggleable__label-arrow:before {color: black;}#sk-container-id-1 div.sk-toggleable__content {max-height: 0;max-width: 0;overflow: hidden;text-align: left;background-color: #f0f8ff;}#sk-container-id-1 div.sk-toggleable__content pre {margin: 0.2em;color: black;border-radius: 0.25em;background-color: #f0f8ff;}#sk-container-id-1 input.sk-toggleable__control:checked~div.sk-toggleable__content {max-height: 200px;max-width: 100%;overflow: auto;}#sk-container-id-1 input.sk-toggleable__control:checked~label.sk-toggleable__label-arrow:before {content: \"▾\";}#sk-container-id-1 div.sk-estimator input.sk-toggleable__control:checked~label.sk-toggleable__label {background-color: #d4ebff;}#sk-container-id-1 div.sk-label input.sk-toggleable__control:checked~label.sk-toggleable__label {background-color: #d4ebff;}#sk-container-id-1 input.sk-hidden--visually {border: 0;clip: rect(1px 1px 1px 1px);clip: rect(1px, 1px, 1px, 1px);height: 1px;margin: -1px;overflow: hidden;padding: 0;position: absolute;width: 1px;}#sk-container-id-1 div.sk-estimator {font-family: monospace;background-color: #f0f8ff;border: 1px dotted black;border-radius: 0.25em;box-sizing: border-box;margin-bottom: 0.5em;}#sk-container-id-1 div.sk-estimator:hover {background-color: #d4ebff;}#sk-container-id-1 div.sk-parallel-item::after {content: \"\";width: 100%;border-bottom: 1px solid gray;flex-grow: 1;}#sk-container-id-1 div.sk-label:hover label.sk-toggleable__label {background-color: #d4ebff;}#sk-container-id-1 div.sk-serial::before {content: \"\";position: absolute;border-left: 1px solid gray;box-sizing: border-box;top: 0;bottom: 0;left: 50%;z-index: 0;}#sk-container-id-1 div.sk-serial {display: flex;flex-direction: column;align-items: center;background-color: white;padding-right: 0.2em;padding-left: 0.2em;position: relative;}#sk-container-id-1 div.sk-item {position: relative;z-index: 1;}#sk-container-id-1 div.sk-parallel {display: flex;align-items: stretch;justify-content: center;background-color: white;position: relative;}#sk-container-id-1 div.sk-item::before, #sk-container-id-1 div.sk-parallel-item::before {content: \"\";position: absolute;border-left: 1px solid gray;box-sizing: border-box;top: 0;bottom: 0;left: 50%;z-index: -1;}#sk-container-id-1 div.sk-parallel-item {display: flex;flex-direction: column;z-index: 1;position: relative;background-color: white;}#sk-container-id-1 div.sk-parallel-item:first-child::after {align-self: flex-end;width: 50%;}#sk-container-id-1 div.sk-parallel-item:last-child::after {align-self: flex-start;width: 50%;}#sk-container-id-1 div.sk-parallel-item:only-child::after {width: 0;}#sk-container-id-1 div.sk-dashed-wrapped {border: 1px dashed gray;margin: 0 0.4em 0.5em 0.4em;box-sizing: border-box;padding-bottom: 0.4em;background-color: white;}#sk-container-id-1 div.sk-label label {font-family: monospace;font-weight: bold;display: inline-block;line-height: 1.2em;}#sk-container-id-1 div.sk-label-container {text-align: center;}#sk-container-id-1 div.sk-container {/* jupyter's `normalize.less` sets `[hidden] { display: none; }` but bootstrap.min.css set `[hidden] { display: none !important; }` so we also need the `!important` here to be able to override the default hidden behavior on the sphinx rendered scikit-learn.org. See: https://github.com/scikit-learn/scikit-learn/issues/21755 */display: inline-block !important;position: relative;}#sk-container-id-1 div.sk-text-repr-fallback {display: none;}</style><div id=\"sk-container-id-1\" class=\"sk-top-container\"><div class=\"sk-text-repr-fallback\"><pre>SVR(C=10, epsilon=0.05)</pre><b>In a Jupyter environment, please rerun this cell to show the HTML representation or trust the notebook. <br />On GitHub, the HTML representation is unable to render, please try loading this page with nbviewer.org.</b></div><div class=\"sk-container\" hidden><div class=\"sk-item\"><div class=\"sk-estimator sk-toggleable\"><input class=\"sk-toggleable__control sk-hidden--visually\" id=\"sk-estimator-id-1\" type=\"checkbox\" checked><label for=\"sk-estimator-id-1\" class=\"sk-toggleable__label sk-toggleable__label-arrow\">SVR</label><div class=\"sk-toggleable__content\"><pre>SVR(C=10, epsilon=0.05)</pre></div></div></div></div></div>"
      ],
      "text/plain": [
       "SVR(C=10, epsilon=0.05)"
      ]
     },
     "execution_count": 28,
     "metadata": {},
     "output_type": "execute_result"
    }
   ],
   "source": [
    "svr_model.fit(train_dates.reshape(-1, 1), train_consumo)"
   ]
  },
  {
   "cell_type": "code",
   "execution_count": 29,
   "metadata": {},
   "outputs": [],
   "source": [
    "previsto=svr_model.predict(teste_dates.reshape(-1, 1))"
   ]
  },
  {
   "cell_type": "code",
   "execution_count": 30,
   "metadata": {},
   "outputs": [
    {
     "data": {
      "text/plain": [
       "<Axes: xlabel='datas'>"
      ]
     },
     "execution_count": 30,
     "metadata": {},
     "output_type": "execute_result"
    },
    {
     "data": {
      "image/png": "[encoded data removed]",
      "text/plain": [
       "<Figure size 640x480 with 1 Axes>"
      ]
     },
     "metadata": {},
     "output_type": "display_data"
    }
   ],
   "source": [
    "df_teste = pd.DataFrame({\"datas\":teste_dates.ravel(),\"consumo\":teste_consumo.ravel()})\n",
    "df_resultado = pd.DataFrame({\"datas\":teste_dates.ravel(),\"consumo\":previsto.ravel()})\n",
    "total=pd.merge(df_teste, df_resultado, on=\"datas\", suffixes=[\"_teste\", \"_treino\"])\n",
    "total.plot(x=\"datas\")\n",
    "#df_teste.plot(x=\"datas\", y=\"consumo\")\n",
    "#df_resultado.plot(x=\"datas\", y=\"consumo\")"
   ]
  },
  {
   "cell_type": "markdown",
   "metadata": {},
   "source": [
    "verificando o desempenho"
   ]
  },
  {
   "cell_type": "code",
   "execution_count": 31,
   "metadata": {},
   "outputs": [
    {
     "data": {
      "text/plain": [
       "86692.38033860674"
      ]
     },
     "execution_count": 31,
     "metadata": {},
     "output_type": "execute_result"
    }
   ],
   "source": [
    "from sklearn.metrics import mean_absolute_error\n",
    "\n",
    "mean_absolute_error(scaler_consumo.inverse_transform(teste_consumo.reshape(-1, 1)), \n",
    "                    scaler_consumo.inverse_transform(previsto.reshape(-1, 1)))"
   ]
  },
  {
   "cell_type": "markdown",
   "metadata": {},
   "source": [
    "# Cross-validation"
   ]
  },
  {
   "cell_type": "code",
   "execution_count": 32,
   "metadata": {},
   "outputs": [],
   "source": [
    "from sklearn.model_selection import cross_val_score\n",
    "from sklearn.metrics import mean_absolute_percentage_error\n",
    "#n = 5\n",
    "#tss = TimeSeriesSplit(n_splits=n)\n",
    "#\n",
    "#modelo = SVR(kernel=\"rbf\", C=C, epsilon=epsilon, max_iter=100000 )\n",
    "#scaler = StandardScaler()\n",
    "#y_scaled = scaler.fit_transform(consumoNorte.values)\n",
    "#x=np.array(consumoNorte.index)\n",
    "#cross_val_score(modelo, x.reshape(-1, 1), y_scaled.ravel(), cv=tss, scoring=\"r2\").mean()"
   ]
  },
  {
   "cell_type": "markdown",
   "metadata": {},
   "source": [
    "fazendo uma previsão"
   ]
  },
  {
   "cell_type": "code",
   "execution_count": 33,
   "metadata": {},
   "outputs": [
    {
     "data": {
      "text/plain": [
       "array([ 908626,  864397,  948603,  936381,  999291, 1044363, 1036735,\n",
       "       1123220, 1186719, 1222328, 1235789, 1171554])"
      ]
     },
     "execution_count": 33,
     "metadata": {},
     "output_type": "execute_result"
    }
   ],
   "source": [
    "teste = np.array(pd.to_datetime([\"2024-01-01\", \"2024-02-01\", \"2024-03-01\", \"2024-04-01\", \"2024-05-01\", \"2024-06-01\"]))\n",
    "teste_consumo =  np.array(( 908626 ,\t 864397 ,\t 948603 ,\t 936381 ,\t 999291 ,\t 1044363 \t, \n",
    "                           1036735 ,\t 1123220 ,\t 1186719 \t, 1222328 ,\t 1235789 ,\t 1171554))\n",
    "teste_consumo"
   ]
  },
  {
   "cell_type": "code",
   "execution_count": 34,
   "metadata": {},
   "outputs": [],
   "source": [
    "modelo_prev = SVR(kernel=\"rbf\", epsilon=epsilon, C=C)"
   ]
  },
  {
   "cell_type": "code",
   "execution_count": 35,
   "metadata": {},
   "outputs": [],
   "source": [
    "x=np.array(consumoNorte.index)\n",
    "y=consumoNorte.values"
   ]
  },
  {
   "cell_type": "code",
   "execution_count": 36,
   "metadata": {},
   "outputs": [],
   "source": [
    "scaler = StandardScaler()\n",
    "y_scaled = scaler.fit_transform(y)\n",
    "a=scaler.transform(teste_consumo.reshape(-1, 1))\n"
   ]
  },
  {
   "cell_type": "code",
   "execution_count": 37,
   "metadata": {},
   "outputs": [
    {
     "data": {
      "text/html": [
       "<style>#sk-container-id-2 {color: black;}#sk-container-id-2 pre{padding: 0;}#sk-container-id-2 div.sk-toggleable {background-color: white;}#sk-container-id-2 label.sk-toggleable__label {cursor: pointer;display: block;width: 100%;margin-bottom: 0;padding: 0.3em;box-sizing: border-box;text-align: center;}#sk-container-id-2 label.sk-toggleable__label-arrow:before {content: \"▸\";float: left;margin-right: 0.25em;color: #696969;}#sk-container-id-2 label.sk-toggleable__label-arrow:hover:before {color: black;}#sk-container-id-2 div.sk-estimator:hover label.sk-toggleable__label-arrow:before {color: black;}#sk-container-id-2 div.sk-toggleable__content {max-height: 0;max-width: 0;overflow: hidden;text-align: left;background-color: #f0f8ff;}#sk-container-id-2 div.sk-toggleable__content pre {margin: 0.2em;color: black;border-radius: 0.25em;background-color: #f0f8ff;}#sk-container-id-2 input.sk-toggleable__control:checked~div.sk-toggleable__content {max-height: 200px;max-width: 100%;overflow: auto;}#sk-container-id-2 input.sk-toggleable__control:checked~label.sk-toggleable__label-arrow:before {content: \"▾\";}#sk-container-id-2 div.sk-estimator input.sk-toggleable__control:checked~label.sk-toggleable__label {background-color: #d4ebff;}#sk-container-id-2 div.sk-label input.sk-toggleable__control:checked~label.sk-toggleable__label {background-color: #d4ebff;}#sk-container-id-2 input.sk-hidden--visually {border: 0;clip: rect(1px 1px 1px 1px);clip: rect(1px, 1px, 1px, 1px);height: 1px;margin: -1px;overflow: hidden;padding: 0;position: absolute;width: 1px;}#sk-container-id-2 div.sk-estimator {font-family: monospace;background-color: #f0f8ff;border: 1px dotted black;border-radius: 0.25em;box-sizing: border-box;margin-bottom: 0.5em;}#sk-container-id-2 div.sk-estimator:hover {background-color: #d4ebff;}#sk-container-id-2 div.sk-parallel-item::after {content: \"\";width: 100%;border-bottom: 1px solid gray;flex-grow: 1;}#sk-container-id-2 div.sk-label:hover label.sk-toggleable__label {background-color: #d4ebff;}#sk-container-id-2 div.sk-serial::before {content: \"\";position: absolute;border-left: 1px solid gray;box-sizing: border-box;top: 0;bottom: 0;left: 50%;z-index: 0;}#sk-container-id-2 div.sk-serial {display: flex;flex-direction: column;align-items: center;background-color: white;padding-right: 0.2em;padding-left: 0.2em;position: relative;}#sk-container-id-2 div.sk-item {position: relative;z-index: 1;}#sk-container-id-2 div.sk-parallel {display: flex;align-items: stretch;justify-content: center;background-color: white;position: relative;}#sk-container-id-2 div.sk-item::before, #sk-container-id-2 div.sk-parallel-item::before {content: \"\";position: absolute;border-left: 1px solid gray;box-sizing: border-box;top: 0;bottom: 0;left: 50%;z-index: -1;}#sk-container-id-2 div.sk-parallel-item {display: flex;flex-direction: column;z-index: 1;position: relative;background-color: white;}#sk-container-id-2 div.sk-parallel-item:first-child::after {align-self: flex-end;width: 50%;}#sk-container-id-2 div.sk-parallel-item:last-child::after {align-self: flex-start;width: 50%;}#sk-container-id-2 div.sk-parallel-item:only-child::after {width: 0;}#sk-container-id-2 div.sk-dashed-wrapped {border: 1px dashed gray;margin: 0 0.4em 0.5em 0.4em;box-sizing: border-box;padding-bottom: 0.4em;background-color: white;}#sk-container-id-2 div.sk-label label {font-family: monospace;font-weight: bold;display: inline-block;line-height: 1.2em;}#sk-container-id-2 div.sk-label-container {text-align: center;}#sk-container-id-2 div.sk-container {/* jupyter's `normalize.less` sets `[hidden] { display: none; }` but bootstrap.min.css set `[hidden] { display: none !important; }` so we also need the `!important` here to be able to override the default hidden behavior on the sphinx rendered scikit-learn.org. See: https://github.com/scikit-learn/scikit-learn/issues/21755 */display: inline-block !important;position: relative;}#sk-container-id-2 div.sk-text-repr-fallback {display: none;}</style><div id=\"sk-container-id-2\" class=\"sk-top-container\"><div class=\"sk-text-repr-fallback\"><pre>SVR(C=10, epsilon=0.05)</pre><b>In a Jupyter environment, please rerun this cell to show the HTML representation or trust the notebook. <br />On GitHub, the HTML representation is unable to render, please try loading this page with nbviewer.org.</b></div><div class=\"sk-container\" hidden><div class=\"sk-item\"><div class=\"sk-estimator sk-toggleable\"><input class=\"sk-toggleable__control sk-hidden--visually\" id=\"sk-estimator-id-2\" type=\"checkbox\" checked><label for=\"sk-estimator-id-2\" class=\"sk-toggleable__label sk-toggleable__label-arrow\">SVR</label><div class=\"sk-toggleable__content\"><pre>SVR(C=10, epsilon=0.05)</pre></div></div></div></div></div>"
      ],
      "text/plain": [
       "SVR(C=10, epsilon=0.05)"
      ]
     },
     "execution_count": 37,
     "metadata": {},
     "output_type": "execute_result"
    }
   ],
   "source": [
    "modelo_prev.fit(x.reshape(-1, 1),y_scaled.ravel())"
   ]
  },
  {
   "cell_type": "code",
   "execution_count": 38,
   "metadata": {},
   "outputs": [],
   "source": [
    "previsto2=modelo_prev.predict(teste.reshape(-1,1))"
   ]
  },
  {
   "cell_type": "code",
   "execution_count": 39,
   "metadata": {},
   "outputs": [],
   "source": [
    "previsto2=scaler.inverse_transform(previsto2.reshape(-1, 1))"
   ]
  },
  {
   "cell_type": "code",
   "execution_count": 40,
   "metadata": {},
   "outputs": [],
   "source": [
    "real = np.array([ 1124302, 1088997,1085332,1117988,1136346,1114577 ])"
   ]
  },
  {
   "cell_type": "code",
   "execution_count": 41,
   "metadata": {},
   "outputs": [
    {
     "data": {
      "text/plain": [
       "16177.334423759914"
      ]
     },
     "execution_count": 41,
     "metadata": {},
     "output_type": "execute_result"
    }
   ],
   "source": [
    "from sklearn.metrics import r2_score, mean_squared_error\n",
    "r2_score(real,previsto2)\n",
    "mean_squared_error(real, previsto2)\n",
    "mean_absolute_error(real, previsto2)"
   ]
  }
 ],
 "metadata": {
  "kernelspec": {
   "display_name": "base",
   "language": "python",
   "name": "python3"
  },
  "language_info": {
   "codemirror_mode": {
    "name": "ipython",
    "version": 3
   },
   "file_extension": ".py",
   "mimetype": "text/x-python",
   "name": "python",
   "nbconvert_exporter": "python",
   "pygments_lexer": "ipython3",
   "version": "3.11.5"
  }
 },
 "nbformat": 4,
 "nbformat_minor": 2
}
