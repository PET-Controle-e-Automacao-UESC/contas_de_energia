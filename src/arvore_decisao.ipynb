{
 "cells": [
  {
   "cell_type": "markdown",
   "metadata": {},
   "source": [
    "# Algoritmo de Árvore de Decisão - Decision Tree Classifier"
   ]
  },
  {
   "cell_type": "markdown",
   "metadata": {},
   "source": [
    "## Link para o notebook principal"
   ]
  },
  {
   "cell_type": "markdown",
   "metadata": {},
   "source": [
    "[Ir para main.ipynb](./main.ipynb)"
   ]
  },
  {
   "cell_type": "markdown",
   "metadata": {},
   "source": [
    "## Índice"
   ]
  },
  {
   "cell_type": "markdown",
   "metadata": {},
   "source": [
    "- [Modelos Utilizados](#modelos-utilizados)\n",
    "- [Importando Pacotes e Bibliotecas](#importando-os-pacotes-e-bibliotecas)\n",
    "- [Importando os Datasets](#importando-os-datasets)\n",
    "- [Análise Inicial dos Datasets](#análise-inicial-dos-datasets)\n",
    "- [Análise Exploratória dos Dados](#aed)\n",
    "- [Criando os Modelos](#criando-os-modelos)\n",
    "- [Treinando os Modelos](#treinando-os-modelos)\n",
    "- [Resultados os Modelos](#resultados-dos-modelos)\n",
    "    - [Realização dos Testes](#testes)\n",
    "    - [Qualidade dos Modelos](#qualidade-dos-testes-e-resultados)\n",
    "- [Discussão](#discussão)"
   ]
  },
  {
   "cell_type": "markdown",
   "metadata": {},
   "source": [
    "## Importando os pacotes e bibliotecas"
   ]
  },
  {
   "cell_type": "code",
   "execution_count": null,
   "metadata": {},
   "outputs": [
    {
     "name": "stderr",
     "output_type": "stream",
     "text": [
      "2024-08-06 13:48:28.803242: I tensorflow/core/util/port.cc:113] oneDNN custom operations are on. You may see slightly different numerical results due to floating-point round-off errors from different computation orders. To turn them off, set the environment variable `TF_ENABLE_ONEDNN_OPTS=0`.\n",
      "2024-08-06 13:48:28.939556: E external/local_xla/xla/stream_executor/cuda/cuda_dnn.cc:10575] Unable to register cuDNN factory: Attempting to register factory for plugin cuDNN when one has already been registered\n",
      "2024-08-06 13:48:28.939612: E external/local_xla/xla/stream_executor/cuda/cuda_fft.cc:479] Unable to register cuFFT factory: Attempting to register factory for plugin cuFFT when one has already been registered\n",
      "2024-08-06 13:48:28.975587: E external/local_xla/xla/stream_executor/cuda/cuda_blas.cc:1442] Unable to register cuBLAS factory: Attempting to register factory for plugin cuBLAS when one has already been registered\n",
      "2024-08-06 13:48:29.010599: I tensorflow/core/platform/cpu_feature_guard.cc:210] This TensorFlow binary is optimized to use available CPU instructions in performance-critical operations.\n",
      "To enable the following instructions: SSE4.1 SSE4.2 AVX AVX2 AVX512F AVX512_VNNI FMA, in other operations, rebuild TensorFlow with the appropriate compiler flags.\n"
     ]
    }
   ],
   "source": [
    "# biblioteca para realizar o corte teste | treino\n",
    "from sklearn.model_selection import train_test_split\n",
    "\n",
    "# biblioteca de classificacao\n",
    "## Arvore de Decisao;\n",
    "from sklearn.tree import DecisionTreeClassifier\n",
    "\n",
    "# Biblioteca auxiliar para calcular os scores\n",
    "from sklearn import metrics\n",
    "\n",
    "import models.DecisionTree\n",
    "\n",
    "## Impressao de Graficos\n",
    "from matplotlib import pyplot as plt\n",
    "import seaborn as sns\n",
    "\n",
    "## Bibliotecas Base\n",
    "import pandas as pd\n",
    "import numpy as np"
   ]
  },
  {
   "cell_type": "markdown",
   "metadata": {},
   "source": [
    "## Importando o dataset"
   ]
  },
  {
   "cell_type": "code",
   "execution_count": null,
   "metadata": {},
   "outputs": [],
   "source": [
    "df_residencial = pd.read_csv(\"./databases/raw/CONSUMO MENSAL DE ENERGIA ELÉTRICA POR CLASSE - CONSUMO COMERCIAL POR UF.csv\", sep = \",\", index_col = 0)"
   ]
  },
  {
   "cell_type": "markdown",
   "metadata": {},
   "source": [
    "#### Divisão dos labels / dados"
   ]
  },
  {
   "cell_type": "code",
   "execution_count": null,
   "metadata": {},
   "outputs": [],
   "source": [
    "X = df_residencial.drop(columns = [\"consumo\"])\n",
    "y = df_residencial[\"consumo\"]"
   ]
  },
  {
   "cell_type": "markdown",
   "metadata": {},
   "source": [
    "#### Hiper parametros"
   ]
  },
  {
   "cell_type": "code",
   "execution_count": null,
   "metadata": {},
   "outputs": [],
   "source": [
    "semente_randomica = 42\n",
    "divisao_treino_teste = 0.3"
   ]
  },
  {
   "cell_type": "markdown",
   "metadata": {},
   "source": [
    "#### Dividindo dados de treino e dados de teste"
   ]
  },
  {
   "cell_type": "code",
   "execution_count": null,
   "metadata": {},
   "outputs": [],
   "source": [
    "X_train, X_test, y_train, y_test = train_test_split(X, y, random_state = semente_randomica, train_size = divisao_treino_teste)"
   ]
  },
  {
   "cell_type": "markdown",
   "metadata": {},
   "source": [
    "#### Criando o modelo"
   ]
  },
  {
   "cell_type": "code",
   "execution_count": null,
   "metadata": {},
   "outputs": [],
   "source": [
    "arvore_decisao = models.DecisionTree.DecisionTree()"
   ]
  },
  {
   "cell_type": "code",
   "execution_count": null,
   "metadata": {},
   "outputs": [],
   "source": [
    "arvore_decisao.fit(X_train, y_train)\n",
    "y_predict = arvore_decisao.predict(X_test)"
   ]
  },
  {
   "cell_type": "markdown",
   "metadata": {},
   "source": [
    "#### Avaliando o modelo"
   ]
  },
  {
   "cell_type": "code",
   "execution_count": null,
   "metadata": {},
   "outputs": [
    {
     "name": "stdout",
     "output_type": "stream",
     "text": [
      "Acurácia:  0.8947368421052632\n"
     ]
    }
   ],
   "source": [
    "print(\"Acurácia: \", metrics.accuracy_score(y_true = y_test, y_pred = y_predict))"
   ]
  },
  {
   "cell_type": "markdown",
   "metadata": {},
   "source": [
    "### Impressão dos erros residuais"
   ]
  },
  {
   "cell_type": "code",
   "execution_count": null,
   "metadata": {},
   "outputs": [
    {
     "data": {
      "image/png": "[encoded data removed]",
      "text/plain": [
       "<Figure size 1200x800 with 1 Axes>"
      ]
     },
     "metadata": {},
     "output_type": "display_data"
    }
   ],
   "source": [
    "figura = plt.figure(figsize = (12, 8))\n",
    "\n",
    "erros_residuais = y_test - y_predict\n",
    "\n",
    "plt.title(\"Erros Residuais vs. Valor Estimado\")\n",
    "plt.scatter(y_predict, erros_residuais)\n",
    "plt.axhline(y = 0, linestyle = \"--\")\n",
    "plt.xlabel(\"Consumo previsto\")\n",
    "plt.ylabel(\"Erro residual\")\n",
    "\n",
    "plt.show()"
   ]
  },
  {
   "cell_type": "code",
   "execution_count": null,
   "metadata": {},
   "outputs": [],
   "source": [
    "X = df_residencial.drop(columns = [\"consumo\"])\n",
    "y = df_residencial[\"consumo\"]"
   ]
  },
  {
   "cell_type": "markdown",
   "metadata": {},
   "source": [
    "#### Hiper parametros"
   ]
  },
  {
   "cell_type": "code",
   "execution_count": null,
   "metadata": {},
   "outputs": [],
   "source": [
    "semente_randomica = 42\n",
    "divisao_treino_teste = 0.3"
   ]
  },
  {
   "cell_type": "markdown",
   "metadata": {},
   "source": [
    "#### Dividindo dados de treino e dados de teste"
   ]
  },
  {
   "cell_type": "code",
   "execution_count": null,
   "metadata": {},
   "outputs": [],
   "source": [
    "X_train, X_test, y_train, y_test = train_test_split(X, y, random_state = semente_randomica, train_size = divisao_treino_teste)"
   ]
  },
  {
   "cell_type": "markdown",
   "metadata": {},
   "source": [
    "#### Criando o modelo"
   ]
  },
  {
   "cell_type": "code",
   "execution_count": null,
   "metadata": {},
   "outputs": [],
   "source": [
    "arvore_decisao = models.DecisionTree.DecisionTree()"
   ]
  },
  {
   "cell_type": "code",
   "execution_count": null,
   "metadata": {},
   "outputs": [],
   "source": [
    "arvore_decisao.fit(X_train, y_train)\n",
    "y_predict = arvore_decisao.predict(X_test)"
   ]
  },
  {
   "cell_type": "markdown",
   "metadata": {},
   "source": [
    "#### Avaliando o modelo"
   ]
  },
  {
   "cell_type": "code",
   "execution_count": null,
   "metadata": {},
   "outputs": [
    {
     "name": "stdout",
     "output_type": "stream",
     "text": [
      "Acurácia:  0.8947368421052632\n"
     ]
    }
   ],
   "source": [
    "print(\"Acurácia: \", metrics.accuracy_score(y_true = y_test, y_pred = y_predict))"
   ]
  },
  {
   "cell_type": "markdown",
   "metadata": {},
   "source": [
    "### Impressão dos erros residuais"
   ]
  },
  {
   "cell_type": "code",
   "execution_count": null,
   "metadata": {},
   "outputs": [
    {
     "data": {
      "image/png": "[encoded data removed]",
      "text/plain": [
       "<Figure size 1200x800 with 1 Axes>"
      ]
     },
     "metadata": {},
     "output_type": "display_data"
    }
   ],
   "source": [
    "figura = plt.figure(figsize = (12, 8))\n",
    "\n",
    "erros_residuais = y_test - y_predict\n",
    "\n",
    "plt.title(\"Erros Residuais vs. Valor Estimado\")\n",
    "plt.scatter(y_predict, erros_residuais)\n",
    "plt.axhline(y = 0, linestyle = \"--\")\n",
    "plt.xlabel(\"Consumo previsto\")\n",
    "plt.ylabel(\"Erro residual\")\n",
    "\n",
    "plt.show()"
   ]
  }
 ],
 "metadata": {
  "language_info": {
   "name": "python"
  }
 },
 "nbformat": 4,
 "nbformat_minor": 2
}
